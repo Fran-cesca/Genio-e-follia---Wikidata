{
 "cells": [
  {
   "cell_type": "markdown",
   "id": "594130f6",
   "metadata": {
    "kernel": "SoS"
   },
   "source": [
    "# Psicopatologia e creatività: Wikidata enquiry."
   ]
  },
  {
   "cell_type": "markdown",
   "id": "38fc6102",
   "metadata": {
    "kernel": "SoS"
   },
   "source": [
    "## Set up."
   ]
  },
  {
   "cell_type": "markdown",
   "id": "087de232",
   "metadata": {
    "kernel": "SoS"
   },
   "source": [
    "## Endpont e parametri per le SPARQL queries"
   ]
  },
  {
   "cell_type": "code",
   "execution_count": 2,
   "id": "8b054c53",
   "metadata": {
    "kernel": "SPARQL"
   },
   "outputs": [
    {
     "data": {
      "text/html": [
       "<div class=\"krn-spql\"><div class=\"magic\">Endpoint set to: https://query.wikidata.org/sparql</div><div class=\"magic\">Request format: ANY</div><div class=\"magic\">Display: table</div><div class=\"magic\">Result maximum size: 50</div></div>"
      ],
      "text/plain": [
       "Endpoint set to: https://query.wikidata.org/sparql\n",
       "Request format: ANY\n",
       "Display: table\n",
       "Result maximum size: 50\n"
      ]
     },
     "metadata": {},
     "output_type": "display_data"
    }
   ],
   "source": [
    "%endpoint https://query.wikidata.org/sparql\n",
    "%format any\n",
    "%display table\n",
    "%show 50"
   ]
  },
  {
   "cell_type": "markdown",
   "id": "1ecd1204",
   "metadata": {
    "kernel": "SPARQL"
   },
   "source": [
    "## Import per le visualizzazioni"
   ]
  },
  {
   "cell_type": "code",
   "execution_count": 7,
   "id": "a0c923f3",
   "metadata": {
    "kernel": "Python 3 (ipykernel)"
   },
   "outputs": [
    {
     "name": "stdout",
     "output_type": "stream",
     "text": [
      "Defaulting to user installation because normal site-packages is not writeableNote: you may need to restart the kernel to use updated packages.\n",
      "\n",
      "Requirement already satisfied: seaborn in c:\\users\\francesca\\appdata\\roaming\\python\\python39\\site-packages (0.11.2)\n",
      "Requirement already satisfied: numpy>=1.15 in c:\\users\\francesca\\appdata\\roaming\\python\\python39\\site-packages (from seaborn) (1.22.4)\n",
      "Requirement already satisfied: scipy>=1.0 in c:\\users\\francesca\\appdata\\roaming\\python\\python39\\site-packages (from seaborn) (1.7.2)\n",
      "Requirement already satisfied: pandas>=0.23 in c:\\users\\francesca\\appdata\\roaming\\python\\python39\\site-packages (from seaborn) (1.5.1)\n",
      "Requirement already satisfied: matplotlib>=2.2 in c:\\users\\francesca\\appdata\\roaming\\python\\python39\\site-packages (from seaborn) (3.3.3)\n",
      "Requirement already satisfied: cycler>=0.10 in c:\\users\\francesca\\appdata\\roaming\\python\\python39\\site-packages (from matplotlib>=2.2->seaborn) (0.10.0)\n",
      "Requirement already satisfied: kiwisolver>=1.0.1 in c:\\users\\francesca\\appdata\\roaming\\python\\python39\\site-packages (from matplotlib>=2.2->seaborn) (1.3.1)\n",
      "Requirement already satisfied: pillow>=6.2.0 in c:\\users\\francesca\\appdata\\roaming\\python\\python39\\site-packages (from matplotlib>=2.2->seaborn) (9.0.1)\n",
      "Requirement already satisfied: pyparsing!=2.0.4,!=2.1.2,!=2.1.6,>=2.0.3 in c:\\users\\francesca\\appdata\\roaming\\python\\python39\\site-packages (from matplotlib>=2.2->seaborn) (3.1.2)\n",
      "Requirement already satisfied: python-dateutil>=2.1 in c:\\users\\francesca\\appdata\\roaming\\python\\python39\\site-packages (from matplotlib>=2.2->seaborn) (2.9.0.post0)\n",
      "Requirement already satisfied: pytz>=2020.1 in c:\\users\\francesca\\appdata\\roaming\\python\\python39\\site-packages (from pandas>=0.23->seaborn) (2023.3.post1)\n",
      "Requirement already satisfied: six in c:\\users\\francesca\\appdata\\roaming\\python\\python39\\site-packages (from cycler>=0.10->matplotlib>=2.2->seaborn) (1.15.0)\n"
     ]
    }
   ],
   "source": [
    "%pip install seaborn\n",
    "import seaborn as sns\n",
    "import matplotlib.pyplot as plt\n",
    "import numpy as np"
   ]
  },
  {
   "cell_type": "markdown",
   "id": "79d17e7a",
   "metadata": {
    "kernel": "Python 3 (ipykernel)"
   },
   "source": [
    "# Queries"
   ]
  },
  {
   "cell_type": "markdown",
   "id": "51d4bf4c",
   "metadata": {
    "kernel": "SPARQL"
   },
   "source": [
    "## 1. Numero di persone su Wikidata"
   ]
  },
  {
   "cell_type": "code",
   "execution_count": 3,
   "id": "f9d00ab9",
   "metadata": {
    "kernel": "SPARQL"
   },
   "outputs": [
    {
     "data": {
      "text/html": [
       "<div class=\"krn-spql\"><table><tr class=hdr><th>peopleCount</th></tr><tr class=odd><td class=val>11107438</td></tr></table><div class=\"tinfo\">Total: 1, Shown: 1</div></div>"
      ]
     },
     "metadata": {},
     "output_type": "display_data"
    }
   ],
   "source": [
    "SELECT (COUNT(?person) AS ?peopleCount)\n",
    "WHERE {\n",
    "\t?person wdt:P31/wdt:P279* wd:Q5  .\n",
    "}"
   ]
  },
  {
   "cell_type": "markdown",
   "id": "c9e40769",
   "metadata": {
    "kernel": "SPARQL"
   },
   "source": [
    "## 2. Numero artisti su Wikidata"
   ]
  },
  {
   "cell_type": "code",
   "execution_count": 11,
   "id": "9c7e25d8",
   "metadata": {
    "kernel": "SPARQL"
   },
   "outputs": [
    {
     "data": {
      "text/html": [
       "<div class=\"krn-spql\"><table><tr class=hdr><th>artistsCount</th></tr><tr class=odd><td class=val>4703709</td></tr></table><div class=\"tinfo\">Total: 1, Shown: 1</div></div>"
      ]
     },
     "metadata": {},
     "output_type": "display_data"
    }
   ],
   "source": [
    "SELECT (COUNT(DISTINCT ?artist) AS ?artistsCount)\n",
    "WHERE {\n",
    "    #?artist wdt:P31 wd:Q5.(Runtime error)\n",
    "    ?artist wdt:P106/wdt:P279+ wd:Q483501.\n",
    "}"
   ]
  },
  {
   "cell_type": "markdown",
   "id": "969d1be1",
   "metadata": {
    "kernel": "SPARQL"
   },
   "source": [
    "## Data visualization: artisti su Wikidata"
   ]
  },
  {
   "cell_type": "code",
   "execution_count": 12,
   "id": "a0269f23",
   "metadata": {
    "kernel": "Python 3 (ipykernel)"
   },
   "outputs": [
    {
     "data": {
      "image/png": "[encoded data removed]",
      "text/plain": [
       "<Figure size 432x288 with 1 Axes>"
      ]
     },
     "metadata": {},
     "output_type": "display_data"
    }
   ],
   "source": [
    "#define data\n",
    "data = [42.3, 57.7]\n",
    "labels = ['Artists', 'Non-artists']\n",
    "\n",
    "#define Seaborn color palette to use\n",
    "colors = sns.color_palette('pastel')[0:5]\n",
    "\n",
    "#create pie chart\n",
    "plt.pie(data, labels = labels, colors = colors, autopct='%.0f%%')\n",
    "plt.show()"
   ]
  },
  {
   "cell_type": "markdown",
   "id": "4e43a78b",
   "metadata": {
    "kernel": "SPARQL"
   },
   "source": [
    "## 3. I 'mental disorders' su Wikidata"
   ]
  },
  {
   "cell_type": "code",
   "execution_count": 12,
   "id": "5f726808",
   "metadata": {
    "kernel": "SPARQL"
   },
   "outputs": [
    {
     "data": {
      "text/html": [
       "<div class=\"krn-spql\"><table><tr class=hdr><th>mentalDisorderLabel</th></tr><tr class=odd><td class=val>dementia</td></tr><tr class=even><td class=val>phobia</td></tr><tr class=odd><td class=val>retrograde amnesia</td></tr><tr class=even><td class=val>developmental coordination disorder</td></tr><tr class=odd><td class=val>paranoia</td></tr><tr class=even><td class=val>Diogenes syndrome</td></tr><tr class=odd><td class=val>communication disorder</td></tr><tr class=even><td class=val>impulse control disorder</td></tr><tr class=odd><td class=val>antisocial personality disorder</td></tr><tr class=even><td class=val>Wilson disease</td></tr><tr class=odd><td class=val>hallucination</td></tr><tr class=even><td class=val>anorexia nervosa</td></tr><tr class=odd><td class=val>coprolalia</td></tr><tr class=even><td class=val>thought disorder</td></tr><tr class=odd><td class=val>bipolar disorder</td></tr><tr class=even><td class=val>sleep disorder</td></tr><tr class=odd><td class=val>speech disorder</td></tr><tr class=even><td class=val>sexual dysfunction</td></tr><tr class=odd><td class=val>anxiety disorder</td></tr><tr class=even><td class=val>intellectual disability</td></tr><tr class=odd><td class=val>agnosia</td></tr><tr class=even><td class=val>personality disorder</td></tr><tr class=odd><td class=val>organic brain syndrome</td></tr><tr class=even><td class=val>narcissistic personality disorder</td></tr><tr class=odd><td class=val>Cotard delusion</td></tr><tr class=even><td class=val>Joubert syndrome</td></tr><tr class=odd><td class=val>dyslalia</td></tr><tr class=even><td class=val>deaf-mute</td></tr><tr class=odd><td class=val>adjustment disorder</td></tr><tr class=even><td class=val>paraphilia</td></tr><tr class=odd><td class=val>hallucinogen persisting perception disorder</td></tr><tr class=even><td class=val>tic disorder</td></tr><tr class=odd><td class=val>Delirium</td></tr><tr class=even><td class=val>hypochondriasis</td></tr><tr class=odd><td class=val>mental breakdown</td></tr><tr class=even><td class=val>grandiose delusions</td></tr><tr class=odd><td class=val>alcoholic hallucinosis</td></tr><tr class=even><td class=val>gender dysphoria</td></tr><tr class=odd><td class=val>mood disorder</td></tr><tr class=even><td class=val>acute stress reaction</td></tr><tr class=odd><td class=val>conduct disorder</td></tr><tr class=even><td class=val>dyslexia</td></tr><tr class=odd><td class=val>trichotillomania</td></tr><tr class=even><td class=val>eating disorder</td></tr><tr class=odd><td class=val>Kleine-Levin syndrome</td></tr><tr class=even><td class=val>attention deficit hyperactivity disorder</td></tr><tr class=odd><td class=val>pathological lying</td></tr><tr class=even><td class=val>sleeprunning</td></tr><tr class=odd><td class=val>selective mutism</td></tr><tr class=even><td class=val>non-controlled substance abuse</td></tr></table><div class=\"tinfo\">Total: 289, Shown: 50</div></div>"
      ]
     },
     "metadata": {},
     "output_type": "display_data"
    }
   ],
   "source": [
    "SELECT DISTINCT ?mentalDisorderLabel \n",
    "WHERE {\n",
    "    ?s wdt:P1050/wdt:P279* ?mentalDisorder;\n",
    "       wdt:P31 wd:Q5.\n",
    "    {?mentalDisorder wdt:P279* wd:Q12135} UNION {?mentalDisorder wdt:P31* wd:Q12135}.\n",
    "    ?mentalDisorder rdfs:label ?mentalDisorderLabel.\n",
    "    FILTER (lang(?mentalDisorderLabel) = \"en\")\n",
    "}"
   ]
  },
  {
   "cell_type": "markdown",
   "id": "7ab03962",
   "metadata": {
    "kernel": "SPARQL"
   },
   "source": [
    "## 4. Numero artisti affetti da 'mental disorders'"
   ]
  },
  {
   "cell_type": "code",
   "execution_count": 89,
   "id": "5b38376b",
   "metadata": {
    "kernel": "SPARQL"
   },
   "outputs": [
    {
     "data": {
      "text/html": [
       "<div class=\"krn-spql\"><table><tr class=hdr><th>artistsCount</th></tr><tr class=odd><td class=val>1472</td></tr></table><div class=\"tinfo\">Total: 1, Shown: 1</div></div>"
      ]
     },
     "metadata": {},
     "output_type": "display_data"
    }
   ],
   "source": [
    "SELECT  (COUNT (DISTINCT ?artist) as ?artistsCount) \n",
    "WHERE { \n",
    "  #?artist wdt:P31 wd:Q5. \n",
    "  ?artist wdt:P106/wdt:P279+ wd:Q483501.\n",
    "  ?artist wdt:P1050/wdt:P279+ wd:Q12135.\n",
    "}  "
   ]
  },
  {
   "cell_type": "markdown",
   "id": "4e0a24f0",
   "metadata": {
    "kernel": "SPARQL"
   },
   "source": [
    "La <b>percentuale</b> di artisti con mental disorder sul totale degli artisti è: <b>0.031%</b>"
   ]
  },
  {
   "cell_type": "markdown",
   "id": "51c1ea72",
   "metadata": {
    "kernel": "SPARQL"
   },
   "source": [
    "## 5. Artisti e relativi 'mental disorders'"
   ]
  },
  {
   "cell_type": "code",
   "execution_count": 13,
   "id": "febc3917",
   "metadata": {
    "kernel": "SPARQL"
   },
   "outputs": [
    {
     "data": {
      "text/html": [
       "<div class=\"krn-spql\"><table><tr class=hdr><th>artistLabel</th>\n",
       "<th>medicalConditions</th></tr><tr class=odd><td class=val>Harriet Kemsley</td>\n",
       "<td class=val>developmental coordination disorder</td></tr><tr class=even><td class=val>Maju Lozano</td>\n",
       "<td class=val>autism</td></tr><tr class=odd><td class=val>Jack Welch</td>\n",
       "<td class=val>stuttering</td></tr><tr class=even><td class=val>Bruce Willis</td>\n",
       "<td class=val>aphasia, stuttering, frontotemporal dementia</td></tr><tr class=odd><td class=val>Raul Seixas</td>\n",
       "<td class=val>mental depression</td></tr><tr class=even><td class=val>Jerry Pinkney</td>\n",
       "<td class=val>dyslexia</td></tr><tr class=odd><td class=val>Jessica McCabe</td>\n",
       "<td class=val>attention deficit hyperactivity disorder</td></tr><tr class=even><td class=val>Brianna Wu</td>\n",
       "<td class=val>post-traumatic stress disorder</td></tr><tr class=odd><td class=val>Natsuki Aso</td>\n",
       "<td class=val>nicotine dependence</td></tr><tr class=even><td class=val>Edward Benson</td>\n",
       "<td class=val>bipolar disorder</td></tr><tr class=odd><td class=val>Daniel Tammet</td>\n",
       "<td class=val>Asperger syndrome, savant syndrome</td></tr><tr class=even><td class=val>John Elder Robison</td>\n",
       "<td class=val>Asperger syndrome</td></tr><tr class=odd><td class=val>John Louis Clarke</td>\n",
       "<td class=val>muteness</td></tr><tr class=even><td class=val>Jon Poole</td>\n",
       "<td class=val>autism</td></tr><tr class=odd><td class=val>Jon Richardson</td>\n",
       "<td class=val>obsessive-compulsive personality disorder</td></tr><tr class=even><td class=val>Josh Morgan</td>\n",
       "<td class=val>Asperger syndrome</td></tr><tr class=odd><td class=val>Amy Winehouse</td>\n",
       "<td class=val>bipolar disorder</td></tr><tr class=even><td class=val>Max Brooks</td>\n",
       "<td class=val>dyslexia</td></tr><tr class=odd><td class=val>Isaac Newton</td>\n",
       "<td class=val>stuttering</td></tr><tr class=even><td class=val>Jean Annette Paton</td>\n",
       "<td class=val>dyslexia</td></tr><tr class=odd><td class=val>Orlando Bloom</td>\n",
       "<td class=val>dyslexia</td></tr><tr class=even><td class=val>Hugo Horiot</td>\n",
       "<td class=val>autism</td></tr><tr class=odd><td class=val>Colin Jones</td>\n",
       "<td class=val>dyslexia</td></tr><tr class=even><td class=val>Vittorio Gassman</td>\n",
       "<td class=val>mental depression</td></tr><tr class=odd><td class=val>Whoopi Goldberg</td>\n",
       "<td class=val>dyslexia</td></tr><tr class=even><td class=val>Naama Kates</td>\n",
       "<td class=val>agoraphobia</td></tr><tr class=odd><td class=val>Lee Ridley</td>\n",
       "<td class=val>muteness</td></tr><tr class=even><td class=val>Leo Sayer</td>\n",
       "<td class=val>dyslexia</td></tr><tr class=odd><td class=val>Shere Hite</td>\n",
       "<td class=val>corticobasal degeneration</td></tr><tr class=even><td class=val>Goliarda Sapienza</td>\n",
       "<td class=val>kleptomania</td></tr><tr class=odd><td class=val>Katja Burkard</td>\n",
       "<td class=val>lisp</td></tr><tr class=even><td class=val>Alix Generous</td>\n",
       "<td class=val>Asperger syndrome</td></tr><tr class=odd><td class=val>Dieter Thomas Heck</td>\n",
       "<td class=val>stuttering</td></tr><tr class=even><td class=val>Luke Helder</td>\n",
       "<td class=val>schizophrenia, schizoaffective disorder</td></tr><tr class=odd><td class=val>May Ayim</td>\n",
       "<td class=val>mental depression</td></tr><tr class=even><td class=val>Paul Gosch</td>\n",
       "<td class=val>schizophrenia</td></tr><tr class=odd><td class=val>Mary Ann Sieghart</td>\n",
       "<td class=val>prosopagnosia</td></tr><tr class=even><td class=val>Tim-Thilo Fellmer</td>\n",
       "<td class=val>dyslexia</td></tr><tr class=odd><td class=val>Scatman John</td>\n",
       "<td class=val>stuttering</td></tr><tr class=even><td class=val>Shulamith Firestone</td>\n",
       "<td class=val>schizophrenia</td></tr><tr class=odd><td class=val>Adam Michnik</td>\n",
       "<td class=val>stuttering</td></tr><tr class=even><td class=val>Alison Goldfrapp</td>\n",
       "<td class=val>dyslexia</td></tr><tr class=odd><td class=val>Ken Scudder</td>\n",
       "<td class=val>attention deficit hyperactivity disorder</td></tr><tr class=even><td class=val>Alexander Scriabin</td>\n",
       "<td class=val>major depressive disorder</td></tr><tr class=odd><td class=val>Louisa May Alcott</td>\n",
       "<td class=val>mental depression</td></tr><tr class=even><td class=val>Richard Dreyfuss</td>\n",
       "<td class=val>bipolar disorder</td></tr><tr class=odd><td class=val>Chris Rock</td>\n",
       "<td class=val>Non-Verbal Learning Disorder</td></tr><tr class=even><td class=val>Mark Edwards</td>\n",
       "<td class=val>dyslexia</td></tr><tr class=odd><td class=val>Margot Robbie</td>\n",
       "<td class=val>hyperactivity, attention deficit hyperactivity disorder</td></tr><tr class=even><td class=val>B. B. King</td>\n",
       "<td class=val>stuttering</td></tr></table><div class=\"tinfo\">Total: 1470, Shown: 50</div></div>"
      ]
     },
     "metadata": {},
     "output_type": "display_data"
    }
   ],
   "source": [
    "SELECT DISTINCT ?artistLabel (group_concat(DISTINCT ?medicalConditionLabel; separator=\", \") as ?medicalConditions)  \n",
    "WHERE {\n",
    "      ?artist wdt:P106/wdt:P279+ wd:Q483501.\n",
    "      ?artist wdt:P1050 ?medicalCondition.\n",
    "      ?medicalCondition wdt:P279+ wd:Q12135.\n",
    "      ?medicalCondition rdfs:label ?medicalConditionLabel.\n",
    "      FILTER (lang(?medicalConditionLabel) = \"en\")\n",
    "      SERVICE wikibase:label {bd:serviceParam wikibase:language \"en\".}    }\n",
    "GROUP BY ?artistLabel"
   ]
  },
  {
   "cell_type": "markdown",
   "id": "6b302ea3",
   "metadata": {
    "kernel": "SPARQL"
   },
   "source": [
    "## 6. Numero di artisti per ciascun 'disturbo mentale'"
   ]
  },
  {
   "cell_type": "code",
   "execution_count": 76,
   "id": "b8235dbe",
   "metadata": {
    "kernel": "SPARQL",
    "scrolled": false
   },
   "outputs": [
    {
     "data": {
      "text/html": [
       "<div class=\"krn-spql\"><table><tr class=hdr><th>diseaseLabel</th>\n",
       "<th>artistNumber</th></tr><tr class=odd><td class=val>bipolar disorder</td>\n",
       "<td class=val>266</td></tr><tr class=even><td class=val>dyslexia</td>\n",
       "<td class=val>212</td></tr><tr class=odd><td class=val>autism</td>\n",
       "<td class=val>198</td></tr><tr class=even><td class=val>stuttering</td>\n",
       "<td class=val>123</td></tr><tr class=odd><td class=val>Asperger syndrome</td>\n",
       "<td class=val>102</td></tr><tr class=even><td class=val>attention deficit hyperactivity disorder</td>\n",
       "<td class=val>102</td></tr><tr class=odd><td class=val>schizophrenia</td>\n",
       "<td class=val>100</td></tr><tr class=even><td class=val>mental depression</td>\n",
       "<td class=val>98</td></tr><tr class=odd><td class=val>alcoholism</td>\n",
       "<td class=val>41</td></tr><tr class=even><td class=val>obsessive-compulsive disorder</td>\n",
       "<td class=val>37</td></tr><tr class=odd><td class=val>major depressive disorder</td>\n",
       "<td class=val>33</td></tr><tr class=even><td class=val>dementia</td>\n",
       "<td class=val>28</td></tr><tr class=odd><td class=val>borderline personality disorder</td>\n",
       "<td class=val>24</td></tr><tr class=even><td class=val>Tourette syndrome</td>\n",
       "<td class=val>21</td></tr><tr class=odd><td class=val>prosopagnosia</td>\n",
       "<td class=val>16</td></tr><tr class=even><td class=val>post-traumatic stress disorder</td>\n",
       "<td class=val>15</td></tr><tr class=odd><td class=val>autism spectrum disorder</td>\n",
       "<td class=val>15</td></tr><tr class=even><td class=val>deaf-mute</td>\n",
       "<td class=val>13</td></tr><tr class=odd><td class=val>anorexia nervosa</td>\n",
       "<td class=val>11</td></tr><tr class=even><td class=val>anxiety disorder</td>\n",
       "<td class=val>11</td></tr><tr class=odd><td class=val>developmental coordination disorder</td>\n",
       "<td class=val>9</td></tr><tr class=even><td class=val>agoraphobia</td>\n",
       "<td class=val>7</td></tr><tr class=odd><td class=val>alcohol dependence</td>\n",
       "<td class=val>7</td></tr><tr class=even><td class=val>complex post-traumatic stress disorder</td>\n",
       "<td class=val>6</td></tr><tr class=odd><td class=val>Attention deficit hyperactivity disorder predominantly inattentive</td>\n",
       "<td class=val>6</td></tr><tr class=even><td class=val>substance dependence</td>\n",
       "<td class=val>6</td></tr><tr class=odd><td class=val>muteness</td>\n",
       "<td class=val>6</td></tr><tr class=even><td class=val>progressive supranuclear palsy</td>\n",
       "<td class=val>5</td></tr><tr class=odd><td class=val>dissociative identity disorder</td>\n",
       "<td class=val>5</td></tr><tr class=even><td class=val>chronic traumatic encephalopathy</td>\n",
       "<td class=val>5</td></tr><tr class=odd><td class=val>savant syndrome</td>\n",
       "<td class=val>4</td></tr><tr class=even><td class=val>schizoaffective disorder</td>\n",
       "<td class=val>4</td></tr><tr class=odd><td class=val>panic disorder</td>\n",
       "<td class=val>4</td></tr><tr class=even><td class=val>narcolepsy</td>\n",
       "<td class=val>4</td></tr><tr class=odd><td class=val>bipolar II disorder</td>\n",
       "<td class=val>4</td></tr><tr class=even><td class=val>anxiety</td>\n",
       "<td class=val>3</td></tr><tr class=odd><td class=val>Huntington's disease</td>\n",
       "<td class=val>3</td></tr><tr class=even><td class=val>paranoia</td>\n",
       "<td class=val>3</td></tr><tr class=odd><td class=val>body dysmorphic disorder</td>\n",
       "<td class=val>3</td></tr><tr class=even><td class=val>vascular dementia</td>\n",
       "<td class=val>3</td></tr><tr class=odd><td class=val>insomnia</td>\n",
       "<td class=val>3</td></tr><tr class=even><td class=val>cocaine dependence</td>\n",
       "<td class=val>3</td></tr><tr class=odd><td class=val>Lewy body dementia</td>\n",
       "<td class=val>3</td></tr><tr class=even><td class=val>dyscalculia</td>\n",
       "<td class=val>3</td></tr><tr class=odd><td class=val>histrionic personality disorder</td>\n",
       "<td class=val>3</td></tr><tr class=even><td class=val>Alteración del estado mental</td>\n",
       "<td class=val>3</td></tr><tr class=odd><td class=val>aphasia</td>\n",
       "<td class=val>3</td></tr><tr class=even><td class=val>frontotemporal dementia</td>\n",
       "<td class=val>3</td></tr><tr class=odd><td class=val>bulimia nervosa</td>\n",
       "<td class=val>3</td></tr><tr class=even><td class=val>neurasthenia</td>\n",
       "<td class=val>3</td></tr></table><div class=\"tinfo\">Total: 120, Shown: 50</div></div>"
      ]
     },
     "metadata": {},
     "output_type": "display_data"
    }
   ],
   "source": [
    "SELECT ?diseaseLabel (count(distinct ?artist) as ?artistNumber)\n",
    "WHERE {\n",
    "      ?artist wdt:P31 wd:Q5.\n",
    "      ?artist wdt:P106/wdt:P279+ wd:Q483501.\n",
    "      ?artist wdt:P1050 ?disease.\n",
    "      ?disease wdt:P279+ wd:Q12135.\n",
    "      ?disease rdfs:label ?diseaseLabel.\n",
    "      FILTER (lang(?diseaseLabel) = \"en\")\n",
    "}\n",
    "GROUP BY ?diseaseLabel\n",
    "ORDER BY DESC (?artistNumber)"
   ]
  },
  {
   "cell_type": "markdown",
   "id": "94cff9dd",
   "metadata": {
    "kernel": "SPARQL"
   },
   "source": [
    "# Data visualization: numero di artisti per 'mental disorder'."
   ]
  },
  {
   "cell_type": "markdown",
   "id": "55b0f2a1",
   "metadata": {
    "kernel": "SPARQL"
   },
   "source": [
    "Un esempio di visualizzazione per i <b>sette</b> disordini più comuni (balbuzie esclusa)."
   ]
  },
  {
   "cell_type": "code",
   "execution_count": 15,
   "id": "9e11b8e5",
   "metadata": {
    "kernel": "Python 3 (ipykernel)"
   },
   "outputs": [
    {
     "data": {
      "image/png": "[encoded data removed]",
      "text/plain": [
       "<Figure size 432x288 with 1 Axes>"
      ]
     },
     "metadata": {},
     "output_type": "display_data"
    }
   ],
   "source": [
    "#define data\n",
    "data = [24.6,19.5, 18.4, 9.6, 9.5, 9.3, 9.0]\n",
    "labels = ['Bipolar disorder', 'Dyslexia', 'Autism', 'ADHD', 'Asperger syndrome', 'Schizophrenia', 'Mental depression']\n",
    "\n",
    "#define Seaborn color palette to use\n",
    "colors = sns.color_palette('pastel')[0:5]\n",
    "\n",
    "#create pie chart\n",
    "plt.pie(data, labels = labels, colors = colors, autopct='%.0f%%')\n",
    "plt.show()"
   ]
  },
  {
   "cell_type": "markdown",
   "id": "ba63b3c2",
   "metadata": {
    "kernel": "Python 3 (ipykernel)"
   },
   "source": [
    "## 7. Numero di persone e di artisti affetti da bipolarismo."
   ]
  },
  {
   "cell_type": "markdown",
   "id": "f6d4d306",
   "metadata": {
    "kernel": "Python 3 (ipykernel)"
   },
   "source": [
    "Il <b>bipolarismo</b> risulta il disturbo più diffuso tra gli artisti. \n",
    "\n",
    "Su Wikidata, quante persone soffrono di bipolarismo?"
   ]
  },
  {
   "cell_type": "code",
   "execution_count": 70,
   "id": "ca78a1d3",
   "metadata": {
    "kernel": "SPARQL"
   },
   "outputs": [
    {
     "data": {
      "text/html": [
       "<div class=\"krn-spql\"><table><tr class=hdr><th>peopleCount</th></tr><tr class=odd><td class=val>381</td></tr></table><div class=\"tinfo\">Total: 1, Shown: 1</div></div>"
      ]
     },
     "metadata": {},
     "output_type": "display_data"
    }
   ],
   "source": [
    "SELECT (COUNT(DISTINCT ?person) as ?peopleCount)\n",
    "WHERE { \n",
    "  ?person wdt:P31 wd:Q5.\n",
    "  ?person wdt:P1050/wdt:P279* wd:Q131755.\n",
    "}  "
   ]
  },
  {
   "cell_type": "markdown",
   "id": "20f17c40",
   "metadata": {
    "kernel": "SPARQL"
   },
   "source": [
    "... e quanti artisti?"
   ]
  },
  {
   "cell_type": "code",
   "execution_count": 71,
   "id": "c05b7b8c",
   "metadata": {
    "kernel": "SPARQL"
   },
   "outputs": [
    {
     "data": {
      "text/html": [
       "<div class=\"krn-spql\"><table><tr class=hdr><th>artistCount</th></tr><tr class=odd><td class=val>266</td></tr></table><div class=\"tinfo\">Total: 1, Shown: 1</div></div>"
      ]
     },
     "metadata": {},
     "output_type": "display_data"
    }
   ],
   "source": [
    "SELECT (COUNT(DISTINCT ?artist) as ?artistCount)\n",
    "WHERE { \n",
    "  ?artist wdt:P31 wd:Q5.\n",
    "  ?artist wdt:P106/wdt:P279+ wd:Q483501.\n",
    "  ?artist wdt:P1050/wdt:279* wd:Q131755.\n",
    "}  "
   ]
  },
  {
   "cell_type": "markdown",
   "id": "2f587de6",
   "metadata": {
    "kernel": "SPARQL"
   },
   "source": [
    "Su wikidata, la percentuale di artisti affetti da bipolarismo sul totale delle persone affette da bipolarismo è: <b>67%</b>.\n",
    "\n",
    "Ripetiamo la queries per le altre sei patologie più diffuse e diamo una resa grafica dei risultati."
   ]
  },
  {
   "cell_type": "markdown",
   "id": "2ca155be",
   "metadata": {
    "kernel": "SPARQL"
   },
   "source": [
    "## Dislessia"
   ]
  },
  {
   "cell_type": "code",
   "execution_count": 72,
   "id": "17d53782",
   "metadata": {
    "kernel": "SPARQL"
   },
   "outputs": [
    {
     "data": {
      "text/html": [
       "<div class=\"krn-spql\"><table><tr class=hdr><th>peopleCount</th></tr><tr class=odd><td class=val>288</td></tr></table><div class=\"tinfo\">Total: 1, Shown: 1</div></div>"
      ]
     },
     "metadata": {},
     "output_type": "display_data"
    }
   ],
   "source": [
    "SELECT (COUNT(DISTINCT ?person) as ?peopleCount)\n",
    "WHERE { \n",
    "  ?person wdt:P31 wd:Q5.\n",
    "  ?person wdt:P1050/wdt:P279* wd:Q132971.\n",
    "}  "
   ]
  },
  {
   "cell_type": "code",
   "execution_count": 73,
   "id": "67f5a6a7",
   "metadata": {
    "kernel": "SPARQL"
   },
   "outputs": [
    {
     "data": {
      "text/html": [
       "<div class=\"krn-spql\"><table><tr class=hdr><th>artistCount</th></tr><tr class=odd><td class=val>212</td></tr></table><div class=\"tinfo\">Total: 1, Shown: 1</div></div>"
      ]
     },
     "metadata": {},
     "output_type": "display_data"
    }
   ],
   "source": [
    "SELECT (COUNT(DISTINCT ?artist) as ?artistCount)\n",
    "WHERE { \n",
    "  ?artist wdt:P31 wd:Q5.\n",
    "  ?artist wdt:P106/wdt:P279+ wd:Q483501.\n",
    "  ?artist wdt:P1050/wdt:279* wd:Q132971.\n",
    "}  "
   ]
  },
  {
   "cell_type": "markdown",
   "id": "1e651706",
   "metadata": {
    "kernel": "SPARQL"
   },
   "source": [
    "Su Wikidata, la percentuale di artisti affetti da dislessia sul totale delle persone affette da dislessia è: <b>74%</b>."
   ]
  },
  {
   "cell_type": "markdown",
   "id": "96f80b7a",
   "metadata": {
    "kernel": "SPARQL"
   },
   "source": [
    "## Autismo"
   ]
  },
  {
   "cell_type": "code",
   "execution_count": 74,
   "id": "83e63f9f",
   "metadata": {
    "kernel": "SPARQL"
   },
   "outputs": [
    {
     "data": {
      "text/html": [
       "<div class=\"krn-spql\"><table><tr class=hdr><th>peopleCount</th></tr><tr class=odd><td class=val>261</td></tr></table><div class=\"tinfo\">Total: 1, Shown: 1</div></div>"
      ]
     },
     "metadata": {},
     "output_type": "display_data"
    }
   ],
   "source": [
    "SELECT (COUNT(DISTINCT ?person) as ?peopleCount)\n",
    "WHERE { \n",
    "  ?person wdt:P31 wd:Q5.\n",
    "  ?person wdt:P1050/wdt:P279* wd:Q38404.\n",
    "}  "
   ]
  },
  {
   "cell_type": "code",
   "execution_count": 75,
   "id": "1ce298a1",
   "metadata": {
    "kernel": "SPARQL"
   },
   "outputs": [
    {
     "data": {
      "text/html": [
       "<div class=\"krn-spql\"><table><tr class=hdr><th>artistCount</th></tr><tr class=odd><td class=val>198</td></tr></table><div class=\"tinfo\">Total: 1, Shown: 1</div></div>"
      ]
     },
     "metadata": {},
     "output_type": "display_data"
    }
   ],
   "source": [
    "SELECT (COUNT(DISTINCT ?artist) as ?artistCount)\n",
    "WHERE { \n",
    "  ?artist wdt:P31 wd:Q5.\n",
    "  ?artist wdt:P106/wdt:P279+ wd:Q483501.\n",
    "  ?artist wdt:P1050/wdt:279* wd:Q38404.\n",
    "}  "
   ]
  },
  {
   "cell_type": "markdown",
   "id": "53dfa70d",
   "metadata": {
    "kernel": "SPARQL"
   },
   "source": [
    "Su Wikidata, la percentuale di artisti affetti da autismo sul totale delle persone affette da autismo è: <b>76%</b>."
   ]
  },
  {
   "cell_type": "markdown",
   "id": "257cac1c",
   "metadata": {
    "kernel": "SPARQL"
   },
   "source": [
    "## ADHD."
   ]
  },
  {
   "cell_type": "code",
   "execution_count": 78,
   "id": "5d67bad4",
   "metadata": {
    "kernel": "SPARQL"
   },
   "outputs": [
    {
     "data": {
      "text/html": [
       "<div class=\"krn-spql\"><table><tr class=hdr><th>peopleCount</th></tr><tr class=odd><td class=val>122</td></tr></table><div class=\"tinfo\">Total: 1, Shown: 1</div></div>"
      ]
     },
     "metadata": {},
     "output_type": "display_data"
    }
   ],
   "source": [
    "SELECT (COUNT(DISTINCT ?person) as ?peopleCount)\n",
    "WHERE { \n",
    "  ?person wdt:P31 wd:Q5.\n",
    "  ?person wdt:P1050/wdt:P279* wd:Q181923.\n",
    "}  "
   ]
  },
  {
   "cell_type": "code",
   "execution_count": 79,
   "id": "c2abb245",
   "metadata": {
    "kernel": "SPARQL"
   },
   "outputs": [
    {
     "data": {
      "text/html": [
       "<div class=\"krn-spql\"><table><tr class=hdr><th>artistCount</th></tr><tr class=odd><td class=val>102</td></tr></table><div class=\"tinfo\">Total: 1, Shown: 1</div></div>"
      ]
     },
     "metadata": {},
     "output_type": "display_data"
    }
   ],
   "source": [
    "SELECT (COUNT(DISTINCT ?artist) as ?artistCount)\n",
    "WHERE { \n",
    "  ?artist wdt:P31 wd:Q5.\n",
    "  ?artist wdt:P106/wdt:P279+ wd:Q483501.\n",
    "  ?artist wdt:P1050/wdt:279* wd:Q181923.\n",
    "}  "
   ]
  },
  {
   "cell_type": "markdown",
   "id": "2b3c261b",
   "metadata": {
    "kernel": "SPARQL"
   },
   "source": [
    "Su Wikidata, la percentuale di artisti affetti da ADHD sul totale delle persone affette da ADHD è: <b>84%</b>."
   ]
  },
  {
   "cell_type": "markdown",
   "id": "8e4017ac",
   "metadata": {
    "kernel": "SPARQL"
   },
   "source": [
    "## Asperger"
   ]
  },
  {
   "cell_type": "code",
   "execution_count": 80,
   "id": "81d6d43b",
   "metadata": {
    "kernel": "SPARQL"
   },
   "outputs": [
    {
     "data": {
      "text/html": [
       "<div class=\"krn-spql\"><table><tr class=hdr><th>peopleCount</th></tr><tr class=odd><td class=val>131</td></tr></table><div class=\"tinfo\">Total: 1, Shown: 1</div></div>"
      ]
     },
     "metadata": {},
     "output_type": "display_data"
    }
   ],
   "source": [
    "SELECT (COUNT(DISTINCT ?person) as ?peopleCount)\n",
    "WHERE { \n",
    "  ?person wdt:P31 wd:Q5.\n",
    "  ?person wdt:P1050/wdt:P279* wd:Q161790.\n",
    "}  "
   ]
  },
  {
   "cell_type": "code",
   "execution_count": 81,
   "id": "2a1ae0e4",
   "metadata": {
    "kernel": "SPARQL"
   },
   "outputs": [
    {
     "data": {
      "text/html": [
       "<div class=\"krn-spql\"><table><tr class=hdr><th>artistCount</th></tr><tr class=odd><td class=val>102</td></tr></table><div class=\"tinfo\">Total: 1, Shown: 1</div></div>"
      ]
     },
     "metadata": {},
     "output_type": "display_data"
    }
   ],
   "source": [
    "SELECT (COUNT(DISTINCT ?artist) as ?artistCount)\n",
    "WHERE {\n",
    "  ?artist wdt:P31 wd:Q5.\n",
    "  ?artist wdt:P106/wdt:P279+ wd:Q483501.\n",
    "  ?artist wdt:P1050/wdt:279* wd:Q161790.\n",
    "}  "
   ]
  },
  {
   "cell_type": "markdown",
   "id": "e93cad7b",
   "metadata": {
    "kernel": "SPARQL"
   },
   "source": [
    "Su Wikidata, la percentuale di artisti affetti da sindrome di asperger sul totale delle persone affette da sindrome di asperger è: <b>78%</b>."
   ]
  },
  {
   "cell_type": "markdown",
   "id": "d644ac2c",
   "metadata": {
    "kernel": "SPARQL"
   },
   "source": [
    "## Schizofrenia."
   ]
  },
  {
   "cell_type": "code",
   "execution_count": 83,
   "id": "8a02eb83",
   "metadata": {
    "kernel": "SPARQL"
   },
   "outputs": [
    {
     "data": {
      "text/html": [
       "<div class=\"krn-spql\"><table><tr class=hdr><th>peopleCount</th></tr><tr class=odd><td class=val>143</td></tr></table><div class=\"tinfo\">Total: 1, Shown: 1</div></div>"
      ]
     },
     "metadata": {},
     "output_type": "display_data"
    }
   ],
   "source": [
    "SELECT (COUNT(DISTINCT ?person) as ?peopleCount)\n",
    "WHERE {\n",
    "  ?person wdt:P31 wd:Q5.\n",
    "  ?person wdt:P1050/wdt:P279* wd:Q41112.\n",
    "}  "
   ]
  },
  {
   "cell_type": "code",
   "execution_count": 84,
   "id": "5e42694a",
   "metadata": {
    "kernel": "SPARQL"
   },
   "outputs": [
    {
     "data": {
      "text/html": [
       "<div class=\"krn-spql\"><table><tr class=hdr><th>artistCount</th></tr><tr class=odd><td class=val>100</td></tr></table><div class=\"tinfo\">Total: 1, Shown: 1</div></div>"
      ]
     },
     "metadata": {},
     "output_type": "display_data"
    }
   ],
   "source": [
    "SELECT (COUNT(DISTINCT ?artist) as ?artistCount)\n",
    "WHERE {\n",
    "  ?artist wdt:P31 wd:Q5.\n",
    "  ?artist wdt:P106/wdt:P279+ wd:Q483501.\n",
    "  ?artist wdt:P1050/wdt:279* wd:Q41112.\n",
    "}  "
   ]
  },
  {
   "cell_type": "markdown",
   "id": "905734e9",
   "metadata": {
    "kernel": "SPARQL"
   },
   "source": [
    "Su Wikidata, la percentuale di artisti affetti da schizofrenia sul totale delle persone affette da schizofrenia è: <b>70%</b>."
   ]
  },
  {
   "cell_type": "markdown",
   "id": "e5bfe66f",
   "metadata": {
    "kernel": "SPARQL"
   },
   "source": [
    "# Mental depression."
   ]
  },
  {
   "cell_type": "code",
   "execution_count": 85,
   "id": "2736dcb0",
   "metadata": {
    "kernel": "SPARQL"
   },
   "outputs": [
    {
     "data": {
      "text/html": [
       "<div class=\"krn-spql\"><table><tr class=hdr><th>peopleCount</th></tr><tr class=odd><td class=val>168</td></tr></table><div class=\"tinfo\">Total: 1, Shown: 1</div></div>"
      ]
     },
     "metadata": {},
     "output_type": "display_data"
    }
   ],
   "source": [
    "SELECT (COUNT(DISTINCT ?person) as ?peopleCount)\n",
    "WHERE {\n",
    "  ?person wdt:P31 wd:Q5.\n",
    "  ?person wdt:P1050/wdt:P279* wd:Q4340209.\n",
    "}  "
   ]
  },
  {
   "cell_type": "code",
   "execution_count": 86,
   "id": "50f83bd4",
   "metadata": {
    "kernel": "SPARQL"
   },
   "outputs": [
    {
     "data": {
      "text/html": [
       "<div class=\"krn-spql\"><table><tr class=hdr><th>artistCount</th></tr><tr class=odd><td class=val>98</td></tr></table><div class=\"tinfo\">Total: 1, Shown: 1</div></div>"
      ]
     },
     "metadata": {},
     "output_type": "display_data"
    }
   ],
   "source": [
    "SELECT (COUNT(DISTINCT ?artist) as ?artistCount)\n",
    "WHERE {\n",
    "  ?artist wdt:P31 wd:Q5.\n",
    "  ?artist wdt:P106/wdt:P279+ wd:Q483501.\n",
    "  ?artist wdt:P1050/wdt:279* wd:Q4340209.\n",
    "}  "
   ]
  },
  {
   "cell_type": "markdown",
   "id": "2896b67f",
   "metadata": {
    "kernel": "SPARQL"
   },
   "source": [
    "Su Wikidata, la percentuale di artisti affetti da 'mental depression' sul totale delle persone affette da 'mental depression' è: <b>58%</b>."
   ]
  },
  {
   "cell_type": "markdown",
   "id": "c6e280eb",
   "metadata": {
    "kernel": "SPARQL"
   },
   "source": [
    "# Data visualization: artisti sul totale di persone affette da data patologia"
   ]
  },
  {
   "cell_type": "code",
   "execution_count": 87,
   "id": "72f7de10",
   "metadata": {
    "kernel": "Python 3 (ipykernel)"
   },
   "outputs": [
    {
     "data": {
      "image/png": "[encoded data removed]",
      "text/plain": [
       "<Figure size 432x288 with 1 Axes>"
      ]
     },
     "metadata": {
      "needs_background": "light"
     },
     "output_type": "display_data"
    }
   ],
   "source": [
    "# import necessary libraries\n",
    "import pandas as pd\n",
    "#import seaborn as sns\n",
    "import matplotlib.pyplot as plt\n",
    " \n",
    "# create DataFrame\n",
    "df = pd.DataFrame({'Artists': [67, 74, 76, 80, 78, 70, 58],\n",
    "                   'Non-artists': [33, 26, 24, 20, 22, 30, 42]\n",
    "                  },\n",
    "                  index=['Bipolarismo', 'Dislessia', 'Autismo', 'ADHD', 'Asperger', 'Schizofrenia', 'Depressione'])\n",
    " \n",
    " \n",
    "# create stacked bar chart for monthly temperatures\n",
    "df.plot(kind='bar', stacked=True, color=['pink', 'skyblue'])\n",
    "\n",
    "# Put a legend to the right of the current axis\n",
    "plt.legend(loc='upper left', bbox_to_anchor=(1, 0.5))\n",
    "\n",
    "# labels for x & y axis\n",
    "plt.xlabel('Patologie')\n",
    "plt.ylabel('Persone')\n",
    " \n",
    "# title of plot\n",
    "plt.title('Artisti sul totale delle persone affetta da una data patologia')\n",
    "plt.show()"
   ]
  },
  {
   "cell_type": "markdown",
   "id": "66ef8832",
   "metadata": {
    "kernel": "SPARQL"
   },
   "source": [
    "## 8. Numero di artisti con mental disorder divisi per occupazione."
   ]
  },
  {
   "cell_type": "code",
   "execution_count": 90,
   "id": "82f15424",
   "metadata": {
    "kernel": "SPARQL"
   },
   "outputs": [
    {
     "data": {
      "text/html": [
       "<div class=\"krn-spql\"><table><tr class=hdr><th>occupationLabel</th>\n",
       "<th>artistNumber</th></tr><tr class=odd><td class=val>writer</td>\n",
       "<td class=val>399</td></tr><tr class=even><td class=val>actor</td>\n",
       "<td class=val>358</td></tr><tr class=odd><td class=val>singer</td>\n",
       "<td class=val>260</td></tr><tr class=even><td class=val>film actor</td>\n",
       "<td class=val>219</td></tr><tr class=odd><td class=val>television actor</td>\n",
       "<td class=val>193</td></tr><tr class=even><td class=val>screenwriter</td>\n",
       "<td class=val>170</td></tr><tr class=odd><td class=val>musician</td>\n",
       "<td class=val>139</td></tr><tr class=even><td class=val>composer</td>\n",
       "<td class=val>122</td></tr><tr class=odd><td class=val>singer-songwriter</td>\n",
       "<td class=val>112</td></tr><tr class=even><td class=val>poet</td>\n",
       "<td class=val>102</td></tr><tr class=odd><td class=val>film director</td>\n",
       "<td class=val>100</td></tr><tr class=even><td class=val>songwriter</td>\n",
       "<td class=val>97</td></tr><tr class=odd><td class=val>stage actor</td>\n",
       "<td class=val>93</td></tr><tr class=even><td class=val>voice actor</td>\n",
       "<td class=val>93</td></tr><tr class=odd><td class=val>novelist</td>\n",
       "<td class=val>88</td></tr><tr class=even><td class=val>comedian</td>\n",
       "<td class=val>88</td></tr><tr class=odd><td class=val>television presenter</td>\n",
       "<td class=val>86</td></tr><tr class=even><td class=val>painter</td>\n",
       "<td class=val>80</td></tr><tr class=odd><td class=val>guitarist</td>\n",
       "<td class=val>79</td></tr><tr class=even><td class=val>YouTuber</td>\n",
       "<td class=val>54</td></tr><tr class=odd><td class=val>autobiographer</td>\n",
       "<td class=val>43</td></tr><tr class=even><td class=val>playwright</td>\n",
       "<td class=val>39</td></tr><tr class=odd><td class=val>blogger</td>\n",
       "<td class=val>36</td></tr><tr class=even><td class=val>recording artist</td>\n",
       "<td class=val>35</td></tr><tr class=odd><td class=val>pianist</td>\n",
       "<td class=val>34</td></tr><tr class=even><td class=val>photographer</td>\n",
       "<td class=val>33</td></tr><tr class=odd><td class=val>director</td>\n",
       "<td class=val>32</td></tr><tr class=even><td class=val>children's writer</td>\n",
       "<td class=val>30</td></tr><tr class=odd><td class=val>rapper</td>\n",
       "<td class=val>29</td></tr><tr class=even><td class=val>stand-up comedian</td>\n",
       "<td class=val>26</td></tr><tr class=odd><td class=val>translator</td>\n",
       "<td class=val>25</td></tr><tr class=even><td class=val>science fiction writer</td>\n",
       "<td class=val>25</td></tr><tr class=odd><td class=val>philosopher</td>\n",
       "<td class=val>24</td></tr><tr class=even><td class=val>sculptor</td>\n",
       "<td class=val>21</td></tr><tr class=odd><td class=val>dancer</td>\n",
       "<td class=val>20</td></tr><tr class=even><td class=val>literary critic</td>\n",
       "<td class=val>19</td></tr><tr class=odd><td class=val>drawer</td>\n",
       "<td class=val>17</td></tr><tr class=even><td class=val>designer</td>\n",
       "<td class=val>17</td></tr><tr class=odd><td class=val>illustrator</td>\n",
       "<td class=val>17</td></tr><tr class=even><td class=val>jazz musician</td>\n",
       "<td class=val>16</td></tr><tr class=odd><td class=val>professional wrestler</td>\n",
       "<td class=val>15</td></tr><tr class=even><td class=val>fashion designer</td>\n",
       "<td class=val>15</td></tr><tr class=odd><td class=val>essayist</td>\n",
       "<td class=val>14</td></tr><tr class=even><td class=val>animator</td>\n",
       "<td class=val>13</td></tr><tr class=odd><td class=val>columnist</td>\n",
       "<td class=val>13</td></tr><tr class=even><td class=val>mathematician</td>\n",
       "<td class=val>13</td></tr><tr class=odd><td class=val>disc jockey</td>\n",
       "<td class=val>12</td></tr><tr class=even><td class=val>historian</td>\n",
       "<td class=val>12</td></tr><tr class=odd><td class=val>lyricist</td>\n",
       "<td class=val>11</td></tr><tr class=even><td class=val>editor</td>\n",
       "<td class=val>11</td></tr></table><div class=\"tinfo\">Total: 332, Shown: 50</div></div>"
      ]
     },
     "metadata": {},
     "output_type": "display_data"
    }
   ],
   "source": [
    "SELECT ?occupationLabel (count(distinct ?artist) as ?artistNumber)\n",
    "WHERE {\n",
    "      ?artist wdt:P31 wd:Q5.\n",
    "      ?artist wdt:P106 ?occupation.\n",
    "      ?occupation wdt:P279+ wd:Q483501.\n",
    "      ?occupation rdfs:label ?occupationLabel.\n",
    "      ?artist wdt:P1050 ?disease.\n",
    "      ?disease wdt:P279+ wd:Q12135.\n",
    "      FILTER (lang(?occupationLabel) = \"en\")\n",
    "}\n",
    "GROUP BY ?occupationLabel\n",
    "ORDER BY DESC (?artistNumber) "
   ]
  },
  {
   "cell_type": "markdown",
   "id": "a9a84583",
   "metadata": {
    "kernel": "SPARQL"
   },
   "source": [
    "## Data visualization: artisti affetti da disorder con relativa occupazione"
   ]
  },
  {
   "cell_type": "code",
   "execution_count": 16,
   "id": "3e24a8e6",
   "metadata": {
    "kernel": "Python 3 (ipykernel)"
   },
   "outputs": [
    {
     "data": {
      "image/png": "[encoded data removed]",
      "text/plain": [
       "<Figure size 432x288 with 1 Axes>"
      ]
     },
     "metadata": {},
     "output_type": "display_data"
    }
   ],
   "source": [
    "#define data\n",
    "data = [22.3,20.6, 15.1, 12.5, 11, 9.7, 7.9]\n",
    "labels = ['writer', 'actor', 'singer', 'film actor', 'television actor', 'screenwriter', 'musician']\n",
    "\n",
    "#define Seaborn color palette to use\n",
    "colors = sns.color_palette('pastel')[0:5]\n",
    "\n",
    "#create pie chart\n",
    "plt.pie(data, labels = labels, colors = colors, autopct='%.0f%%')\n",
    "plt.show()"
   ]
  },
  {
   "cell_type": "markdown",
   "id": "7c3e4b33",
   "metadata": {
    "kernel": "SPARQL"
   },
   "source": [
    "## 9. Artisti con mental disorders e relative date di nascita e morte"
   ]
  },
  {
   "cell_type": "code",
   "execution_count": 16,
   "id": "e86606d1",
   "metadata": {
    "kernel": "SPARQL"
   },
   "outputs": [
    {
     "data": {
      "text/html": [
       "<div class=\"krn-spql\"><div class=\"magic\">Endpoint set to: https://query.wikidata.org/sparql</div><div class=\"magic\">Request format: JSON</div><div class=\"magic\">Display: table</div><div class=\"magic\">Result maximum size: 50</div><div class=\"magic\">Output file: C:\\Users\\Francesca\\birth_death.json</div></div>"
      ],
      "text/plain": [
       "Endpoint set to: https://query.wikidata.org/sparql\n",
       "Request format: JSON\n",
       "Display: table\n",
       "Result maximum size: 50\n",
       "Output file: C:\\Users\\Francesca\\birth_death.json\n"
      ]
     },
     "metadata": {},
     "output_type": "display_data"
    },
    {
     "data": {
      "text/html": [
       "<div class=\"krn-spql\"><table><tr class=hdr><th>artistLabel</th>\n",
       "<th>yearOfBirth</th>\n",
       "<th>yearOfDeath</th></tr><tr class=odd><td class=val>Demosthenes</td>\n",
       "<td class=val>-383</td>\n",
       "<td class=val>-321</td></tr><tr class=even><td class=val>Aristotle</td>\n",
       "<td class=val>-383</td>\n",
       "<td class=val>-321</td></tr><tr class=odd><td class=val>Han Fei</td>\n",
       "<td class=val>-279</td>\n",
       "<td class=val>-232</td></tr><tr class=even><td class=val>Sima Xiangru</td>\n",
       "<td class=val>-178</td>\n",
       "<td class=val>-116</td></tr><tr class=odd><td class=val>Yang Xiong</td>\n",
       "<td class=val>-52</td>\n",
       "<td class=val>18</td></tr><tr class=even><td class=val>Claudius</td>\n",
       "<td class=val>-9</td>\n",
       "<td class=val>54</td></tr><tr class=odd><td class=val>Notker the Stammerer</td>\n",
       "<td class=val>840</td>\n",
       "<td class=val>912</td></tr><tr class=even><td class=val>Niccolò Tartaglia</td>\n",
       "<td class=val>1499</td>\n",
       "<td class=val>1557</td></tr><tr class=odd><td class=val>Ivan IV Vasilyevich</td>\n",
       "<td class=val>1530</td>\n",
       "<td class=val>1584</td></tr><tr class=even><td class=val>Juan Fernández Navarrete</td>\n",
       "<td class=val>1538</td>\n",
       "<td class=val>1579</td></tr><tr class=odd><td class=val>Hendrick Avercamp</td>\n",
       "<td class=val>1585</td>\n",
       "<td class=val>1634</td></tr><tr class=even><td class=val>Luís de Meneses, 3.º Conde da Ericeira</td>\n",
       "<td class=val>1632</td>\n",
       "<td class=val>1690</td></tr><tr class=odd><td class=val>Isaac Newton</td>\n",
       "<td class=val>1643</td>\n",
       "<td class=val>1727</td></tr><tr class=even><td class=val>Samuel Johnson</td>\n",
       "<td class=val>1709</td>\n",
       "<td class=val>1784</td></tr><tr class=odd><td class=val>Johann van Beethoven</td>\n",
       "<td class=val>1740</td>\n",
       "<td class=val>1792</td></tr><tr class=even><td class=val>Jakob Michael Reinhold Lenz</td>\n",
       "<td class=val>1751</td>\n",
       "<td class=val>1792</td></tr><tr class=odd><td class=val>Luigi Cherubini</td>\n",
       "<td class=val>1760</td>\n",
       "<td class=val>1842</td></tr><tr class=even><td class=val>Mary Lamb</td>\n",
       "<td class=val>1764</td>\n",
       "<td class=val>1847</td></tr><tr class=odd><td class=val>Ludwig van Beethoven</td>\n",
       "<td class=val>1770</td>\n",
       "<td class=val>1827</td></tr><tr class=even><td class=val>Vincenzo Cuoco</td>\n",
       "<td class=val>1770</td>\n",
       "<td class=val>1823</td></tr><tr class=odd><td class=val>John Wilson Croker</td>\n",
       "<td class=val>1780</td>\n",
       "<td class=val>1857</td></tr><tr class=even><td class=val>Alessandro Manzoni</td>\n",
       "<td class=val>1785</td>\n",
       "<td class=val>1873</td></tr><tr class=odd><td class=val>Konstantin Batyushkov</td>\n",
       "<td class=val>1787</td>\n",
       "<td class=val>1855</td></tr><tr class=even><td class=val>Thomas Addison</td>\n",
       "<td class=val>1793</td>\n",
       "<td class=val>1860</td></tr><tr class=odd><td class=val>John William Polidori</td>\n",
       "<td class=val>1795</td>\n",
       "<td class=val>1821</td></tr><tr class=even><td class=val>Gaetano Donizetti</td>\n",
       "<td class=val>1797</td>\n",
       "<td class=val>1848</td></tr><tr class=odd><td class=val>Eugène Hugo</td>\n",
       "<td class=val>1800</td>\n",
       "<td class=val>1837</td></tr><tr class=even><td class=val>John Saxton</td>\n",
       "<td class=val>1807</td>\n",
       "<td class=val>1866</td></tr><tr class=odd><td class=val>Karl Hampeln</td>\n",
       "<td class=val>1808</td>\n",
       "<td class=val>1880</td></tr><tr class=even><td class=val>Charles Darwin</td>\n",
       "<td class=val>1809</td>\n",
       "<td class=val>1882</td></tr><tr class=odd><td class=val>Robert Schumann</td>\n",
       "<td class=val>1810</td>\n",
       "<td class=val>1856</td></tr><tr class=even><td class=val>Otto von Bismarck</td>\n",
       "<td class=val>1815</td>\n",
       "<td class=val>1898</td></tr><tr class=odd><td class=val>Pavel Fedotov</td>\n",
       "<td class=val>1815</td>\n",
       "<td class=val>1852</td></tr><tr class=even><td class=val>Charles Kingsley</td>\n",
       "<td class=val>1819</td>\n",
       "<td class=val>1875</td></tr><tr class=odd><td class=val>Charles Méryon</td>\n",
       "<td class=val>1821</td>\n",
       "<td class=val>1868</td></tr><tr class=even><td class=val>Harriet Tubman</td>\n",
       "<td class=val>1822</td>\n",
       "<td class=val>1913</td></tr><tr class=odd><td class=val>Conrad Ferdinand Meyer</td>\n",
       "<td class=val>1825</td>\n",
       "<td class=val>1898</td></tr><tr class=even><td class=val>Edward Benson</td>\n",
       "<td class=val>1829</td>\n",
       "<td class=val>1896</td></tr><tr class=odd><td class=val>Adèle Hugo</td>\n",
       "<td class=val>1830</td>\n",
       "<td class=val>1915</td></tr><tr class=even><td class=val>Carl Tietz</td>\n",
       "<td class=val>1831</td>\n",
       "<td class=val>1874</td></tr><tr class=odd><td class=val>Lewis Carroll</td>\n",
       "<td class=val>1832</td>\n",
       "<td class=val>1898</td></tr><tr class=even><td class=val>Louisa May Alcott</td>\n",
       "<td class=val>1832</td>\n",
       "<td class=val>1888</td></tr><tr class=odd><td class=val>Albert Berg</td>\n",
       "<td class=val>1832</td>\n",
       "<td class=val>1916</td></tr><tr class=even><td class=val>Daniel Perea</td>\n",
       "<td class=val>1834</td>\n",
       "<td class=val>1909</td></tr><tr class=odd><td class=val>William Chester Minor</td>\n",
       "<td class=val>1834</td>\n",
       "<td class=val>1920</td></tr><tr class=even><td class=val>Machado de Assis</td>\n",
       "<td class=val>1839</td>\n",
       "<td class=val>1908</td></tr><tr class=odd><td class=val>Modest Petrovich Mussorgsky</td>\n",
       "<td class=val>1839</td>\n",
       "<td class=val>1881</td></tr><tr class=even><td class=val>Bartolo Longo</td>\n",
       "<td class=val>1841</td>\n",
       "<td class=val>1926</td></tr><tr class=odd><td class=val>Daniel Paul Schreber</td>\n",
       "<td class=val>1842</td>\n",
       "<td class=val>1911</td></tr><tr class=even><td class=val>Elena Raffalovich</td>\n",
       "<td class=val>1842</td>\n",
       "<td class=val>1918</td></tr></table><div class=\"tinfo\">Total: 553, Shown: 50</div></div>"
      ]
     },
     "metadata": {},
     "output_type": "display_data"
    }
   ],
   "source": [
    "%endpoint https://query.wikidata.org/sparql\n",
    "%format json\n",
    "%display table\n",
    "%show 50\n",
    "%outfile C:\\Users\\Francesca\\birth_death.json\n",
    "\n",
    "SELECT DISTINCT ?artistLabel ?yearOfBirth ?yearOfDeath\n",
    "WHERE {\n",
    "      ?artist wdt:P106/wdt:P279+ wd:Q483501;\n",
    "              rdfs:label ?artistLabel;\n",
    "              wdt:P569 ?dateOfBirth;\n",
    "              wdt:P570 ?dateOfDeath;\n",
    "              wdt:P1050 ?medicalCondition.\n",
    "      ?medicalCondition wdt:P279+ wd:Q12135.\n",
    "      BIND(year(?dateOfBirth) AS ?yearOfBirth)\n",
    "      BIND(year(?dateOfDeath) AS ?yearOfDeath)\n",
    "      FILTER (lang(?artistLabel) = \"en\")\n",
    "  }\n",
    "ORDER BY ?yearOfBirth"
   ]
  },
  {
   "cell_type": "markdown",
   "id": "446b87b2",
   "metadata": {
    "kernel": "SPARQL"
   },
   "source": [
    "## Data visualization: artisti affetti da disorder divisi per data di nascita."
   ]
  },
  {
   "cell_type": "code",
   "execution_count": 30,
   "id": "e86f3bb2",
   "metadata": {
    "kernel": "Python 3 (ipykernel)"
   },
   "outputs": [
    {
     "name": "stdout",
     "output_type": "stream",
     "text": [
      "{'antiquity': 7, 'XV': 1, 'XVI': 3, 'XVII': 2, 'XVIII': 13, 'XIX': 113, 'XX': 413, 'XXI': 1}\n"
     ]
    }
   ],
   "source": [
    "import json\n",
    " \n",
    "# Opening JSON file\n",
    "f = open('birth_death.json', encoding = 'UTF-8')\n",
    " \n",
    "# returns JSON object as a dictionary\n",
    "data = json.load(f)\n",
    " \n",
    "occurrences = len(data['results']['bindings'])\n",
    "\n",
    "n = 0\n",
    "dates =[]\n",
    "while occurrences:\n",
    "    dates.append(int(data['results']['bindings'][n]['yearOfBirth']['value']))\n",
    "    n +=1\n",
    "    occurrences -=1\n",
    "#print(dates)\n",
    "\n",
    "centuries = {'antiquity': 0,'XV': 0, 'XVI': 0, 'XVII': 0, 'XVIII': 0, 'XIX': 0, 'XX': 0, 'XXI': 0}\n",
    "\n",
    "for date in dates:\n",
    "    if date < 1400:\n",
    "        centuries['antiquity'] += 1 \n",
    "    if date >= 1400 and date < 1500:\n",
    "        centuries['XV'] += 1\n",
    "    if date >= 1500 and date < 1600:\n",
    "        centuries['XVI'] += 1\n",
    "    if date >= 1600 and date < 1700:\n",
    "        centuries['XVII'] += 1\n",
    "    if date >= 1700 and date < 1800:\n",
    "        centuries['XVIII'] += 1\n",
    "    if date >= 1800 and date < 1900:\n",
    "        centuries['XIX'] += 1\n",
    "    if date >= 1900 and date < 2000:\n",
    "        centuries['XX'] += 1\n",
    "    if date >= 2000:\n",
    "        centuries['XXI'] += 1\n",
    "print(centuries)    \n",
    "\n",
    " \n",
    "# Closing file\n",
    "f.close()"
   ]
  },
  {
   "cell_type": "code",
   "execution_count": 31,
   "id": "4a23d300",
   "metadata": {
    "kernel": "Python 3 (ipykernel)"
   },
   "outputs": [
    {
     "data": {
      "image/png": "[encoded data removed]",
      "text/plain": [
       "<Figure size 432x288 with 1 Axes>"
      ]
     },
     "metadata": {
      "needs_background": "light"
     },
     "output_type": "display_data"
    }
   ],
   "source": [
    "plt.bar(list(centuries.keys()), centuries.values(), color='y')\n",
    "plt.show()"
   ]
  }
 ],
 "metadata": {
  "kernelspec": {
   "display_name": "SoS",
   "language": "sos",
   "name": "sos"
  },
  "language_info": {
   "codemirror_mode": "sos",
   "file_extension": ".sos",
   "mimetype": "text/x-sos",
   "name": "sos",
   "nbconvert_exporter": "sos_notebook.converter.SoS_Exporter",
   "pygments_lexer": "sos"
  },
  "sos": {
   "kernels": [
    [
     "Python 3 (ipykernel)",
     "python3",
     "python3",
     "",
     {
      "name": "ipython",
      "version": 3
     }
    ],
    [
     "SPARQL",
     "sparql",
     "sparql",
     "",
     {
      "name": "sparql"
     }
    ]
   ],
   "panel": {
    "displayed": true,
    "height": 0
   },
   "version": "0.24.4"
  }
 },
 "nbformat": 4,
 "nbformat_minor": 5
}
