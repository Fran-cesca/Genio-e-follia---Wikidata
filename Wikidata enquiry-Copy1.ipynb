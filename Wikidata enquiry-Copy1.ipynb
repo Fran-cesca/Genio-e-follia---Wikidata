{
 "cells": [
  {
   "cell_type": "markdown",
   "id": "594130f6",
   "metadata": {
    "kernel": "SoS"
   },
   "source": [
    "# Psicopatologia e creatività: Wikidata enquiry."
   ]
  },
  {
   "cell_type": "markdown",
   "id": "38fc6102",
   "metadata": {
    "kernel": "SoS"
   },
   "source": [
    "## Set up."
   ]
  },
  {
   "cell_type": "markdown",
   "id": "087de232",
   "metadata": {
    "kernel": "SoS"
   },
   "source": [
    "## Endpont e parametri per le SPARQL queries"
   ]
  },
  {
   "cell_type": "code",
   "execution_count": 4,
   "id": "8b054c53",
   "metadata": {
    "kernel": "SPARQL"
   },
   "outputs": [
    {
     "data": {
      "text/html": [
       "<div class=\"krn-spql\"><div class=\"magic\">Endpoint set to: https://query.wikidata.org/sparql</div><div class=\"magic\">Request format: ANY</div><div class=\"magic\">Display: table</div><div class=\"magic\">Result maximum size: 50</div></div>"
      ],
      "text/plain": [
       "Endpoint set to: https://query.wikidata.org/sparql\n",
       "Request format: ANY\n",
       "Display: table\n",
       "Result maximum size: 50\n"
      ]
     },
     "metadata": {},
     "output_type": "display_data"
    }
   ],
   "source": [
    "%endpoint https://query.wikidata.org/sparql\n",
    "%format any\n",
    "%display table\n",
    "%show 50"
   ]
  },
  {
   "cell_type": "markdown",
   "id": "1ecd1204",
   "metadata": {
    "kernel": "SPARQL"
   },
   "source": [
    "## Import per le visualizzazioni"
   ]
  },
  {
   "cell_type": "code",
   "execution_count": 1,
   "id": "a0c923f3",
   "metadata": {
    "kernel": "Python 3 (ipykernel)"
   },
   "outputs": [
    {
     "name": "stdout",
     "output_type": "stream",
     "text": [
      "Defaulting to user installation because normal site-packages is not writeableNote: you may need to restart the kernel to use updated packages.\n",
      "\n",
      "Requirement already satisfied: seaborn in c:\\users\\francesca\\appdata\\roaming\\python\\python39\\site-packages (0.11.2)\n",
      "Requirement already satisfied: numpy>=1.15 in c:\\users\\francesca\\appdata\\roaming\\python\\python39\\site-packages (from seaborn) (1.22.4)\n",
      "Requirement already satisfied: scipy>=1.0 in c:\\users\\francesca\\appdata\\roaming\\python\\python39\\site-packages (from seaborn) (1.7.2)\n",
      "Requirement already satisfied: pandas>=0.23 in c:\\users\\francesca\\appdata\\roaming\\python\\python39\\site-packages (from seaborn) (1.5.1)\n",
      "Requirement already satisfied: matplotlib>=2.2 in c:\\users\\francesca\\appdata\\roaming\\python\\python39\\site-packages (from seaborn) (3.3.3)\n",
      "Requirement already satisfied: cycler>=0.10 in c:\\users\\francesca\\appdata\\roaming\\python\\python39\\site-packages (from matplotlib>=2.2->seaborn) (0.10.0)\n",
      "Requirement already satisfied: kiwisolver>=1.0.1 in c:\\users\\francesca\\appdata\\roaming\\python\\python39\\site-packages (from matplotlib>=2.2->seaborn) (1.3.1)\n",
      "Requirement already satisfied: pillow>=6.2.0 in c:\\users\\francesca\\appdata\\roaming\\python\\python39\\site-packages (from matplotlib>=2.2->seaborn) (9.0.1)\n",
      "Requirement already satisfied: pyparsing!=2.0.4,!=2.1.2,!=2.1.6,>=2.0.3 in c:\\users\\francesca\\appdata\\roaming\\python\\python39\\site-packages (from matplotlib>=2.2->seaborn) (3.1.2)\n",
      "Requirement already satisfied: python-dateutil>=2.1 in c:\\users\\francesca\\appdata\\roaming\\python\\python39\\site-packages (from matplotlib>=2.2->seaborn) (2.9.0.post0)\n",
      "Requirement already satisfied: pytz>=2020.1 in c:\\users\\francesca\\appdata\\roaming\\python\\python39\\site-packages (from pandas>=0.23->seaborn) (2023.3.post1)\n",
      "Requirement already satisfied: six in c:\\users\\francesca\\appdata\\roaming\\python\\python39\\site-packages (from cycler>=0.10->matplotlib>=2.2->seaborn) (1.15.0)\n"
     ]
    }
   ],
   "source": [
    "%pip install seaborn\n",
    "import seaborn as sns\n",
    "import matplotlib.pyplot as plt\n",
    "import numpy as np"
   ]
  },
  {
   "cell_type": "markdown",
   "id": "79d17e7a",
   "metadata": {
    "kernel": "Python 3 (ipykernel)"
   },
   "source": [
    "# Queries"
   ]
  },
  {
   "cell_type": "markdown",
   "id": "51d4bf4c",
   "metadata": {
    "kernel": "SPARQL"
   },
   "source": [
    "## 1. Numero di persone su Wikidata"
   ]
  },
  {
   "cell_type": "code",
   "execution_count": 3,
   "id": "f9d00ab9",
   "metadata": {
    "kernel": "SPARQL"
   },
   "outputs": [
    {
     "data": {
      "text/html": [
       "<div class=\"krn-spql\"><table><tr class=hdr><th>peopleCount</th></tr><tr class=odd><td class=val>11107438</td></tr></table><div class=\"tinfo\">Total: 1, Shown: 1</div></div>"
      ]
     },
     "metadata": {},
     "output_type": "display_data"
    }
   ],
   "source": [
    "SELECT (COUNT(?person) AS ?peopleCount)\n",
    "WHERE {\n",
    "\t?person wdt:P31/wdt:P279* wd:Q5  .\n",
    "}"
   ]
  },
  {
   "cell_type": "markdown",
   "id": "c9e40769",
   "metadata": {
    "kernel": "SPARQL"
   },
   "source": [
    "## 2. Numero artisti su Wikidata"
   ]
  },
  {
   "cell_type": "markdown",
   "id": "ce4841a1",
   "metadata": {
    "kernel": "SPARQL"
   },
   "source": [
    "Tutti i mestieri 'artistici' secondo Wikidata -> possiamo scegliere quelli che ci interessano"
   ]
  },
  {
   "cell_type": "code",
   "execution_count": null,
   "id": "e7e8f43c",
   "metadata": {
    "kernel": "SPARQL"
   },
   "outputs": [],
   "source": [
    "PREFIX rdfs: <http://www.w3.org/2000/01/rdf-schema#>\n",
    "PREFIX wd: <http://www.wikidata.org/entity/>\n",
    "PREFIX wdt: <http://www.wikidata.org/prop/direct/>\n",
    "SELECT DISTINCT (count(distinct ?person) as ?personNumber) ?jobLabel \n",
    "WHERE { \n",
    "    ?person wdt:P31 wd:Q5.\n",
    "\t?person wdt:P106 ?occupation.\n",
    "\t?occupation wdt:P279+ wd:Q483501.\n",
    "    ?occupation wdt:P279 ?job.\n",
    "\t?job rdfs:label ?jobLabel .\n",
    "\tFILTER (lang(?jobLabel) = \"en\")\n",
    "\tMINUS {?occupation wdt:P279+ wd:Q901} #scientist\n",
    "\t}\n",
    "\t\n",
    "GROUP BY ?jobLabel"
   ]
  },
  {
   "cell_type": "markdown",
   "id": "94b53a7b",
   "metadata": {
    "kernel": "SPARQL"
   },
   "source": [
    "Numero di artistri (escludiamo scienziati): 3,958,905"
   ]
  },
  {
   "cell_type": "code",
   "execution_count": null,
   "id": "bd426ecf",
   "metadata": {
    "kernel": "SPARQL"
   },
   "outputs": [],
   "source": [
    "PREFIX rdfs: <http://www.w3.org/2000/01/rdf-schema#>\n",
    "PREFIX wd: <http://www.wikidata.org/entity/>\n",
    "PREFIX wdt: <http://www.wikidata.org/prop/direct/>\n",
    "SELECT DISTINCT (count(distinct ?person) as ?personNumber) \n",
    "WHERE { \n",
    "    ?person wdt:P31 wd:Q5.\n",
    "\t?person wdt:P106 ?occupation.\n",
    "\t?occupation wdt:P279+ wd:Q483501.\n",
    "\tMINUS {?occupation wdt:P279+ wd:Q901} #scientist\n",
    "\t}\n",
    "\t"
   ]
  },
  {
   "cell_type": "markdown",
   "id": "349e69ae",
   "metadata": {
    "kernel": "SPARQL"
   },
   "source": [
    "Oppure: 1,890,782"
   ]
  },
  {
   "cell_type": "code",
   "execution_count": null,
   "id": "48ac3959",
   "metadata": {
    "kernel": "SPARQL"
   },
   "outputs": [],
   "source": [
    "SELECT (COUNT (distinct ?person) as ?personNumber)\n",
    "WHERE {\n",
    "      ?person wdt:P31 wd:Q5.\n",
    "      ?person wdt:P106 ?occupation.\n",
    "      ?occupation wdt:P279+ wd:Q483501.\n",
    "\t  MINUS {?occupation wdt:P279+ wd:Q15980158} #non-fiction writer\n",
    "\t  MINUS {?occupation wdt:P279+ wd:Q1607826} #editor\n",
    "\t  #MINUS {?occupation wdt:P279+ wd:Q3455803} #director\n",
    "\t  MINUS {?occupation wdt:P279+ wd:Q2045208} #internet celebrity\n",
    "\t  MINUS {?occupation wdt:P279+ wd:Q2675537} #music teacher\n",
    "\t  MINUS {?occupation wdt:P279+ wd:Q47064} #military personnel\n",
    "\t  MINUS {?occupation wdt:P279+ wd:Q4610556} #model\n",
    "\t  MINUS {?occupation wdt:P279+ wd:Q42973} #architect\n",
    "\t  MINUS {?occupation wdt:P279+ wd:Q109459317} #content creator\n",
    "\t  MINUS {?occupation wdt:P279+ wd:Q81096} #engineer\n",
    "\t  MINUS {?occupation wdt:P279+ wd:Q138858} #entertainer\n",
    "}"
   ]
  },
  {
   "cell_type": "markdown",
   "id": "969d1be1",
   "metadata": {
    "kernel": "SPARQL"
   },
   "source": [
    "## Data visualization: artisti su Wikidata"
   ]
  },
  {
   "cell_type": "code",
   "execution_count": 3,
   "id": "adc2f3dd",
   "metadata": {
    "kernel": "Python 3 (ipykernel)"
   },
   "outputs": [
    {
     "data": {
      "image/png": "[encoded data removed]",
      "text/plain": [
       "<Figure size 432x288 with 1 Axes>"
      ]
     },
     "metadata": {},
     "output_type": "display_data"
    }
   ],
   "source": [
    "#define data\n",
    "data = [16.4, 83.6]\n",
    "labels = ['Artists', 'Non-artists']\n",
    "\n",
    "#define Seaborn color palette to use\n",
    "colors = sns.color_palette('pastel')[0:5]\n",
    "\n",
    "#create pie chart\n",
    "plt.pie(data, labels = labels, colors = colors, autopct='%.0f%%')\n",
    "plt.show()"
   ]
  },
  {
   "cell_type": "markdown",
   "id": "4e43a78b",
   "metadata": {
    "kernel": "SPARQL"
   },
   "source": [
    "## 3. I 'mental disorders' su Wikidata"
   ]
  },
  {
   "cell_type": "markdown",
   "id": "5e46d548",
   "metadata": {
    "kernel": "Python 3 (ipykernel)"
   },
   "source": [
    "Mental disorders e relative sovraclassi: quali vogliamo?"
   ]
  },
  {
   "cell_type": "code",
   "execution_count": null,
   "id": "9b65921b",
   "metadata": {
    "kernel": "SPARQL"
   },
   "outputs": [],
   "source": [
    "SELECT DISTINCT ?mentalDisorderLabel ?classOfDisorderLabel\n",
    "WHERE {\n",
    "    ?s wdt:P1050/wdt:P279* ?mentalDisorder;\n",
    "       wdt:P31 wd:Q5.\n",
    "    {?mentalDisorder wdt:P279* wd:Q12135} UNION {?mentalDisorder wdt:P31* wd:Q12135}.\n",
    "    ?mentalDisorder rdfs:label ?mentalDisorderLabel.\n",
    "\t?classOfDisorder wdt:P279 ?mentalDisorder.\n",
    "\t?classOfDisorder rdfs:label ?classOfDisorderLabel.\n",
    "    FILTER (lang(?mentalDisorderLabel) = \"en\")\n",
    "\tFILTER (LANG(?classOfDisorderLabel) = \"en\") .\n",
    "}"
   ]
  },
  {
   "cell_type": "markdown",
   "id": "3930618a",
   "metadata": {
    "kernel": "SPARQL"
   },
   "source": [
    "## 5. Numero persone affette da 'mental disorders'."
   ]
  },
  {
   "cell_type": "code",
   "execution_count": 8,
   "id": "67efaefb",
   "metadata": {
    "kernel": "SPARQL"
   },
   "outputs": [
    {
     "data": {
      "text/html": [
       "<div class=\"krn-spql\"><table><tr class=hdr><th>peopleCount</th></tr><tr class=odd><td class=val>2106</td></tr></table><div class=\"tinfo\">Total: 1, Shown: 1</div></div>"
      ]
     },
     "metadata": {},
     "output_type": "display_data"
    }
   ],
   "source": [
    "SELECT  (COUNT (DISTINCT ?person) as ?peopleCount) \n",
    "WHERE { \n",
    "  ?person wdt:P31 wd:Q5. \n",
    "  ?person wdt:P1050/wdt:P279+ wd:Q12135.\n",
    "}  "
   ]
  },
  {
   "cell_type": "markdown",
   "id": "7ab03962",
   "metadata": {
    "kernel": "SPARQL"
   },
   "source": [
    "## 4. Numero artisti affetti da 'mental disorders'"
   ]
  },
  {
   "cell_type": "markdown",
   "id": "f779d206",
   "metadata": {
    "kernel": "SPARQL"
   },
   "source": [
    "7,207"
   ]
  },
  {
   "cell_type": "code",
   "execution_count": null,
   "id": "15df3c69",
   "metadata": {
    "kernel": "SPARQL"
   },
   "outputs": [],
   "source": [
    "PREFIX rdfs: <http://www.w3.org/2000/01/rdf-schema#>\n",
    "PREFIX wd: <http://www.wikidata.org/entity/>\n",
    "PREFIX wdt: <http://www.wikidata.org/prop/direct/>\n",
    "SELECT DISTINCT ?person ?jobLabel \n",
    "WHERE { \n",
    "    ?person wdt:P1050/wdt:P279* ?mentalDisorder;\n",
    "       wdt:P31 wd:Q5.\n",
    "\t?person wdt:P106 ?occupation.\n",
    "\t?occupation wdt:P279+ wd:Q483501.\n",
    "    ?occupation wdt:P279 ?job.\n",
    "\t?job rdfs:label ?jobLabel .\n",
    "\tFILTER (lang(?jobLabel) = \"en\")\n",
    "    {?mentalDisorder wdt:P279+ wd:Q12135} UNION {?mentalDisorder wdt:P31+ wd:Q12135}.\n",
    "\t MINUS {?occupation wdt:P279+ wd:Q901}#scientist\n",
    "\t}"
   ]
  },
  {
   "cell_type": "markdown",
   "id": "ff3702db",
   "metadata": {
    "kernel": "SPARQL"
   },
   "source": [
    "Così, la <b>percentuale</b> di artisti con mental disorder sul totale degli artisti è: <b>0.18%</b>"
   ]
  },
  {
   "cell_type": "code",
   "execution_count": null,
   "id": "47b39a1a",
   "metadata": {
    "kernel": "SPARQL"
   },
   "outputs": [],
   "source": [
    "SELECT DISTINCT (count(distinct ?person) as ?personNumber) ?jobLabel \n",
    "WHERE { \n",
    "    ?person wdt:P1050/wdt:P279* ?mentalDisorder;\n",
    "       wdt:P31 wd:Q5.\n",
    "\t?person wdt:P106 ?occupation.\n",
    "\t?occupation wdt:P279+ wd:Q483501.\n",
    "    ?occupation wdt:P279 ?job.\n",
    "\t?job rdfs:label ?jobLabel .\n",
    "\tFILTER (lang(?jobLabel) = \"en\")\n",
    "    {?mentalDisorder wdt:P279+ wd:Q12135} UNION {?mentalDisorder wdt:P31+ wd:Q12135}.\n",
    "\t MINUS {?occupation wdt:P279+ wd:Q901} #scientist\n",
    "\t}\n",
    "\t\n",
    "GROUP BY ?jobLabel"
   ]
  },
  {
   "cell_type": "markdown",
   "id": "3c0ac45f",
   "metadata": {
    "kernel": "SPARQL"
   },
   "source": [
    "La <b>percentuale</b> di artisti con mental disorder sul totale degli artisti è: <b>0.069%</b>"
   ]
  },
  {
   "cell_type": "markdown",
   "id": "51c1ea72",
   "metadata": {
    "kernel": "SPARQL"
   },
   "source": [
    "## 5. Artisti e relativi 'mental disorders'"
   ]
  },
  {
   "cell_type": "code",
   "execution_count": 13,
   "id": "febc3917",
   "metadata": {
    "kernel": "SPARQL"
   },
   "outputs": [
    {
     "data": {
      "text/html": [
       "<div class=\"krn-spql\"><table><tr class=hdr><th>artistLabel</th>\n",
       "<th>medicalConditions</th></tr><tr class=odd><td class=val>Harriet Kemsley</td>\n",
       "<td class=val>developmental coordination disorder</td></tr><tr class=even><td class=val>Maju Lozano</td>\n",
       "<td class=val>autism</td></tr><tr class=odd><td class=val>Jack Welch</td>\n",
       "<td class=val>stuttering</td></tr><tr class=even><td class=val>Bruce Willis</td>\n",
       "<td class=val>aphasia, stuttering, frontotemporal dementia</td></tr><tr class=odd><td class=val>Raul Seixas</td>\n",
       "<td class=val>mental depression</td></tr><tr class=even><td class=val>Jerry Pinkney</td>\n",
       "<td class=val>dyslexia</td></tr><tr class=odd><td class=val>Jessica McCabe</td>\n",
       "<td class=val>attention deficit hyperactivity disorder</td></tr><tr class=even><td class=val>Brianna Wu</td>\n",
       "<td class=val>post-traumatic stress disorder</td></tr><tr class=odd><td class=val>Natsuki Aso</td>\n",
       "<td class=val>nicotine dependence</td></tr><tr class=even><td class=val>Edward Benson</td>\n",
       "<td class=val>bipolar disorder</td></tr><tr class=odd><td class=val>Daniel Tammet</td>\n",
       "<td class=val>Asperger syndrome, savant syndrome</td></tr><tr class=even><td class=val>John Elder Robison</td>\n",
       "<td class=val>Asperger syndrome</td></tr><tr class=odd><td class=val>John Louis Clarke</td>\n",
       "<td class=val>muteness</td></tr><tr class=even><td class=val>Jon Poole</td>\n",
       "<td class=val>autism</td></tr><tr class=odd><td class=val>Jon Richardson</td>\n",
       "<td class=val>obsessive-compulsive personality disorder</td></tr><tr class=even><td class=val>Josh Morgan</td>\n",
       "<td class=val>Asperger syndrome</td></tr><tr class=odd><td class=val>Amy Winehouse</td>\n",
       "<td class=val>bipolar disorder</td></tr><tr class=even><td class=val>Max Brooks</td>\n",
       "<td class=val>dyslexia</td></tr><tr class=odd><td class=val>Isaac Newton</td>\n",
       "<td class=val>stuttering</td></tr><tr class=even><td class=val>Jean Annette Paton</td>\n",
       "<td class=val>dyslexia</td></tr><tr class=odd><td class=val>Orlando Bloom</td>\n",
       "<td class=val>dyslexia</td></tr><tr class=even><td class=val>Hugo Horiot</td>\n",
       "<td class=val>autism</td></tr><tr class=odd><td class=val>Colin Jones</td>\n",
       "<td class=val>dyslexia</td></tr><tr class=even><td class=val>Vittorio Gassman</td>\n",
       "<td class=val>mental depression</td></tr><tr class=odd><td class=val>Whoopi Goldberg</td>\n",
       "<td class=val>dyslexia</td></tr><tr class=even><td class=val>Naama Kates</td>\n",
       "<td class=val>agoraphobia</td></tr><tr class=odd><td class=val>Lee Ridley</td>\n",
       "<td class=val>muteness</td></tr><tr class=even><td class=val>Leo Sayer</td>\n",
       "<td class=val>dyslexia</td></tr><tr class=odd><td class=val>Shere Hite</td>\n",
       "<td class=val>corticobasal degeneration</td></tr><tr class=even><td class=val>Goliarda Sapienza</td>\n",
       "<td class=val>kleptomania</td></tr><tr class=odd><td class=val>Katja Burkard</td>\n",
       "<td class=val>lisp</td></tr><tr class=even><td class=val>Alix Generous</td>\n",
       "<td class=val>Asperger syndrome</td></tr><tr class=odd><td class=val>Dieter Thomas Heck</td>\n",
       "<td class=val>stuttering</td></tr><tr class=even><td class=val>Luke Helder</td>\n",
       "<td class=val>schizophrenia, schizoaffective disorder</td></tr><tr class=odd><td class=val>May Ayim</td>\n",
       "<td class=val>mental depression</td></tr><tr class=even><td class=val>Paul Gosch</td>\n",
       "<td class=val>schizophrenia</td></tr><tr class=odd><td class=val>Mary Ann Sieghart</td>\n",
       "<td class=val>prosopagnosia</td></tr><tr class=even><td class=val>Tim-Thilo Fellmer</td>\n",
       "<td class=val>dyslexia</td></tr><tr class=odd><td class=val>Scatman John</td>\n",
       "<td class=val>stuttering</td></tr><tr class=even><td class=val>Shulamith Firestone</td>\n",
       "<td class=val>schizophrenia</td></tr><tr class=odd><td class=val>Adam Michnik</td>\n",
       "<td class=val>stuttering</td></tr><tr class=even><td class=val>Alison Goldfrapp</td>\n",
       "<td class=val>dyslexia</td></tr><tr class=odd><td class=val>Ken Scudder</td>\n",
       "<td class=val>attention deficit hyperactivity disorder</td></tr><tr class=even><td class=val>Alexander Scriabin</td>\n",
       "<td class=val>major depressive disorder</td></tr><tr class=odd><td class=val>Louisa May Alcott</td>\n",
       "<td class=val>mental depression</td></tr><tr class=even><td class=val>Richard Dreyfuss</td>\n",
       "<td class=val>bipolar disorder</td></tr><tr class=odd><td class=val>Chris Rock</td>\n",
       "<td class=val>Non-Verbal Learning Disorder</td></tr><tr class=even><td class=val>Mark Edwards</td>\n",
       "<td class=val>dyslexia</td></tr><tr class=odd><td class=val>Margot Robbie</td>\n",
       "<td class=val>hyperactivity, attention deficit hyperactivity disorder</td></tr><tr class=even><td class=val>B. B. King</td>\n",
       "<td class=val>stuttering</td></tr></table><div class=\"tinfo\">Total: 1470, Shown: 50</div></div>"
      ]
     },
     "metadata": {},
     "output_type": "display_data"
    }
   ],
   "source": [
    "SELECT DISTINCT ?artistLabel (group_concat(DISTINCT ?medicalConditionLabel; separator=\", \") as ?medicalConditions)  \n",
    "WHERE {\n",
    "      ?artist wdt:P106/wdt:P279+ wd:Q483501.\n",
    "      ?artist wdt:P1050 ?medicalCondition.\n",
    "      ?medicalCondition wdt:P279+ wd:Q12135.\n",
    "      ?medicalCondition rdfs:label ?medicalConditionLabel.\n",
    "      FILTER (lang(?medicalConditionLabel) = \"en\")\n",
    "      SERVICE wikibase:label {bd:serviceParam wikibase:language \"en\".}    }\n",
    "GROUP BY ?artistLabel"
   ]
  },
  {
   "cell_type": "markdown",
   "id": "d77b19ea",
   "metadata": {
    "kernel": "SPARQL"
   },
   "source": [
    "## Tutti i mestieri su wikidata e relativo numero di persone"
   ]
  },
  {
   "cell_type": "code",
   "execution_count": null,
   "id": "6db21de1",
   "metadata": {
    "kernel": "SPARQL"
   },
   "outputs": [],
   "source": [
    "SELECT ?occupationLabel (count(distinct ?person) as ?personNumber)\n",
    "WHERE {\n",
    "      ?person wdt:P31 wd:Q5.\n",
    "      ?person wdt:P106 ?occupation.\n",
    "      ?occupation rdfs:label ?occupationLabel.\n",
    "      FILTER (lang(?occupationLabel) = \"en\")\n",
    "}\n",
    "GROUP BY ?occupationLabel\n",
    "ORDER BY DESC (?personNumber)"
   ]
  },
  {
   "cell_type": "markdown",
   "id": "73d4c70b",
   "metadata": {
    "kernel": "SPARQL"
   },
   "source": [
    "## Tutti i mestieri 'artistici' su wikidata e relativo numero di persone"
   ]
  },
  {
   "cell_type": "markdown",
   "id": "cee5cbef",
   "metadata": {
    "kernel": "SPARQL"
   },
   "source": [
    "Partire da qui per ripulire"
   ]
  },
  {
   "cell_type": "code",
   "execution_count": null,
   "id": "90955066",
   "metadata": {
    "kernel": "SPARQL"
   },
   "outputs": [],
   "source": [
    "PREFIX rdfs: <http://www.w3.org/2000/01/rdf-schema#>\n",
    "PREFIX wd: <http://www.wikidata.org/entity/>\n",
    "PREFIX wdt: <http://www.wikidata.org/prop/direct/>\n",
    "SELECT ?occupationLabel (count(distinct ?person) as ?personNumber)\n",
    "WHERE {\n",
    "      ?person wdt:P31 wd:Q5.\n",
    "      ?person wdt:P106 ?occupation.\n",
    "      ?occupation rdfs:label ?occupationLabel.\n",
    "      ?occupation wdt:P279+ wd:Q483501.\n",
    "      FILTER (lang(?occupationLabel) = \"en\")\n",
    "\t  MINUS {?occupation wdt:P279+ wd:Q901} #scientist\n",
    "   \n",
    "}\n",
    "GROUP BY ?occupationLabel\n",
    "ORDER BY DESC (?personNumber)"
   ]
  },
  {
   "cell_type": "markdown",
   "id": "f5d418d9",
   "metadata": {
    "kernel": "SPARQL"
   },
   "source": [
    "## 5. Numero di persone per ciascun 'disturbo mentale'"
   ]
  },
  {
   "cell_type": "markdown",
   "id": "c6555101",
   "metadata": {
    "kernel": "SPARQL"
   },
   "source": [
    "Nota bene: questi dati non corrispondono ai dati epidemiologici in generale. Vedi articolo 'retrieve' -> correlazione negativa tra depressione/ansia e creatività."
   ]
  },
  {
   "cell_type": "code",
   "execution_count": 3,
   "id": "3d60eecc",
   "metadata": {
    "kernel": "SPARQL"
   },
   "outputs": [
    {
     "data": {
      "text/html": [
       "<div class=\"krn-spql\"><table><tr class=hdr><th>diseaseLabel</th>\n",
       "<th>personNumber</th></tr><tr class=odd><td class=val>bipolar disorder</td>\n",
       "<td class=val>376</td></tr><tr class=even><td class=val>dyslexia</td>\n",
       "<td class=val>288</td></tr><tr class=odd><td class=val>autism</td>\n",
       "<td class=val>264</td></tr><tr class=even><td class=val>stuttering</td>\n",
       "<td class=val>190</td></tr><tr class=odd><td class=val>schizophrenia</td>\n",
       "<td class=val>134</td></tr><tr class=even><td class=val>Asperger syndrome</td>\n",
       "<td class=val>131</td></tr><tr class=odd><td class=val>attention deficit hyperactivity disorder</td>\n",
       "<td class=val>119</td></tr><tr class=even><td class=val>mental depression</td>\n",
       "<td class=val>115</td></tr><tr class=odd><td class=val>alcoholism</td>\n",
       "<td class=val>67</td></tr><tr class=even><td class=val>dementia</td>\n",
       "<td class=val>57</td></tr><tr class=odd><td class=val>major depressive disorder</td>\n",
       "<td class=val>49</td></tr><tr class=even><td class=val>borderline personality disorder</td>\n",
       "<td class=val>48</td></tr><tr class=odd><td class=val>obsessive-compulsive disorder</td>\n",
       "<td class=val>45</td></tr><tr class=even><td class=val>Tourette syndrome</td>\n",
       "<td class=val>28</td></tr><tr class=odd><td class=val>post-traumatic stress disorder</td>\n",
       "<td class=val>26</td></tr><tr class=even><td class=val>intellectual disability</td>\n",
       "<td class=val>23</td></tr><tr class=odd><td class=val>autism spectrum disorder</td>\n",
       "<td class=val>21</td></tr><tr class=even><td class=val>prosopagnosia</td>\n",
       "<td class=val>20</td></tr><tr class=odd><td class=val>chronic traumatic encephalopathy</td>\n",
       "<td class=val>19</td></tr><tr class=even><td class=val>deaf-mute</td>\n",
       "<td class=val>18</td></tr><tr class=odd><td class=val>antisocial personality disorder</td>\n",
       "<td class=val>17</td></tr><tr class=even><td class=val>anxiety disorder</td>\n",
       "<td class=val>14</td></tr><tr class=odd><td class=val>anorexia nervosa</td>\n",
       "<td class=val>14</td></tr><tr class=even><td class=val>developmental coordination disorder</td>\n",
       "<td class=val>10</td></tr><tr class=odd><td class=val>alcohol dependence</td>\n",
       "<td class=val>10</td></tr><tr class=even><td class=val>substance dependence</td>\n",
       "<td class=val>9</td></tr><tr class=odd><td class=val>Alteración del estado mental</td>\n",
       "<td class=val>9</td></tr><tr class=even><td class=val>muteness</td>\n",
       "<td class=val>8</td></tr><tr class=odd><td class=val>narcissistic personality disorder</td>\n",
       "<td class=val>8</td></tr><tr class=even><td class=val>agoraphobia</td>\n",
       "<td class=val>7</td></tr><tr class=odd><td class=val>dissociative identity disorder</td>\n",
       "<td class=val>6</td></tr><tr class=even><td class=val>pedophilia</td>\n",
       "<td class=val>6</td></tr><tr class=odd><td class=val>Huntington's disease</td>\n",
       "<td class=val>6</td></tr><tr class=even><td class=val>Attention deficit hyperactivity disorder predominantly inattentive</td>\n",
       "<td class=val>6</td></tr><tr class=odd><td class=val>complex post-traumatic stress disorder</td>\n",
       "<td class=val>6</td></tr><tr class=even><td class=val>schizoaffective disorder</td>\n",
       "<td class=val>6</td></tr><tr class=odd><td class=val>anxiety</td>\n",
       "<td class=val>5</td></tr><tr class=even><td class=val>frontotemporal dementia</td>\n",
       "<td class=val>5</td></tr><tr class=odd><td class=val>histrionic personality disorder</td>\n",
       "<td class=val>5</td></tr><tr class=even><td class=val>aphasia</td>\n",
       "<td class=val>5</td></tr><tr class=odd><td class=val>vascular dementia</td>\n",
       "<td class=val>5</td></tr><tr class=even><td class=val>Lewy body dementia</td>\n",
       "<td class=val>5</td></tr><tr class=odd><td class=val>bipolar II disorder</td>\n",
       "<td class=val>5</td></tr><tr class=even><td class=val>progressive supranuclear palsy</td>\n",
       "<td class=val>5</td></tr><tr class=odd><td class=val>paranoia</td>\n",
       "<td class=val>5</td></tr><tr class=even><td class=val>narcolepsy</td>\n",
       "<td class=val>4</td></tr><tr class=odd><td class=val>personality disorder</td>\n",
       "<td class=val>4</td></tr><tr class=even><td class=val>anterograde amnesia</td>\n",
       "<td class=val>4</td></tr><tr class=odd><td class=val>cocaine dependence</td>\n",
       "<td class=val>4</td></tr><tr class=even><td class=val>personality disorder not otherwise specified</td>\n",
       "<td class=val>4</td></tr></table><div class=\"tinfo\">Total: 169, Shown: 50</div></div>"
      ]
     },
     "metadata": {},
     "output_type": "display_data"
    }
   ],
   "source": [
    "SELECT ?diseaseLabel (count(distinct ?person) as ?personNumber)\n",
    "WHERE {\n",
    "      ?person wdt:P31 wd:Q5.\n",
    "      ?person wdt:P1050 ?disease.\n",
    "      ?disease wdt:P279+ wd:Q12135.\n",
    "      ?disease rdfs:label ?diseaseLabel.\n",
    "      FILTER (lang(?diseaseLabel) = \"en\")\n",
    "}\n",
    "GROUP BY ?diseaseLabel\n",
    "ORDER BY DESC (?personNumber)"
   ]
  },
  {
   "cell_type": "markdown",
   "id": "6b302ea3",
   "metadata": {
    "kernel": "SPARQL"
   },
   "source": [
    "## 6. Numero di artisti per ciascun 'disturbo mentale'"
   ]
  },
  {
   "cell_type": "code",
   "execution_count": 76,
   "id": "b8235dbe",
   "metadata": {
    "kernel": "SPARQL",
    "scrolled": false
   },
   "outputs": [
    {
     "data": {
      "text/html": [
       "<div class=\"krn-spql\"><table><tr class=hdr><th>diseaseLabel</th>\n",
       "<th>artistNumber</th></tr><tr class=odd><td class=val>bipolar disorder</td>\n",
       "<td class=val>266</td></tr><tr class=even><td class=val>dyslexia</td>\n",
       "<td class=val>212</td></tr><tr class=odd><td class=val>autism</td>\n",
       "<td class=val>198</td></tr><tr class=even><td class=val>stuttering</td>\n",
       "<td class=val>123</td></tr><tr class=odd><td class=val>Asperger syndrome</td>\n",
       "<td class=val>102</td></tr><tr class=even><td class=val>attention deficit hyperactivity disorder</td>\n",
       "<td class=val>102</td></tr><tr class=odd><td class=val>schizophrenia</td>\n",
       "<td class=val>100</td></tr><tr class=even><td class=val>mental depression</td>\n",
       "<td class=val>98</td></tr><tr class=odd><td class=val>alcoholism</td>\n",
       "<td class=val>41</td></tr><tr class=even><td class=val>obsessive-compulsive disorder</td>\n",
       "<td class=val>37</td></tr><tr class=odd><td class=val>major depressive disorder</td>\n",
       "<td class=val>33</td></tr><tr class=even><td class=val>dementia</td>\n",
       "<td class=val>28</td></tr><tr class=odd><td class=val>borderline personality disorder</td>\n",
       "<td class=val>24</td></tr><tr class=even><td class=val>Tourette syndrome</td>\n",
       "<td class=val>21</td></tr><tr class=odd><td class=val>prosopagnosia</td>\n",
       "<td class=val>16</td></tr><tr class=even><td class=val>post-traumatic stress disorder</td>\n",
       "<td class=val>15</td></tr><tr class=odd><td class=val>autism spectrum disorder</td>\n",
       "<td class=val>15</td></tr><tr class=even><td class=val>deaf-mute</td>\n",
       "<td class=val>13</td></tr><tr class=odd><td class=val>anorexia nervosa</td>\n",
       "<td class=val>11</td></tr><tr class=even><td class=val>anxiety disorder</td>\n",
       "<td class=val>11</td></tr><tr class=odd><td class=val>developmental coordination disorder</td>\n",
       "<td class=val>9</td></tr><tr class=even><td class=val>agoraphobia</td>\n",
       "<td class=val>7</td></tr><tr class=odd><td class=val>alcohol dependence</td>\n",
       "<td class=val>7</td></tr><tr class=even><td class=val>complex post-traumatic stress disorder</td>\n",
       "<td class=val>6</td></tr><tr class=odd><td class=val>Attention deficit hyperactivity disorder predominantly inattentive</td>\n",
       "<td class=val>6</td></tr><tr class=even><td class=val>substance dependence</td>\n",
       "<td class=val>6</td></tr><tr class=odd><td class=val>muteness</td>\n",
       "<td class=val>6</td></tr><tr class=even><td class=val>progressive supranuclear palsy</td>\n",
       "<td class=val>5</td></tr><tr class=odd><td class=val>dissociative identity disorder</td>\n",
       "<td class=val>5</td></tr><tr class=even><td class=val>chronic traumatic encephalopathy</td>\n",
       "<td class=val>5</td></tr><tr class=odd><td class=val>savant syndrome</td>\n",
       "<td class=val>4</td></tr><tr class=even><td class=val>schizoaffective disorder</td>\n",
       "<td class=val>4</td></tr><tr class=odd><td class=val>panic disorder</td>\n",
       "<td class=val>4</td></tr><tr class=even><td class=val>narcolepsy</td>\n",
       "<td class=val>4</td></tr><tr class=odd><td class=val>bipolar II disorder</td>\n",
       "<td class=val>4</td></tr><tr class=even><td class=val>anxiety</td>\n",
       "<td class=val>3</td></tr><tr class=odd><td class=val>Huntington's disease</td>\n",
       "<td class=val>3</td></tr><tr class=even><td class=val>paranoia</td>\n",
       "<td class=val>3</td></tr><tr class=odd><td class=val>body dysmorphic disorder</td>\n",
       "<td class=val>3</td></tr><tr class=even><td class=val>vascular dementia</td>\n",
       "<td class=val>3</td></tr><tr class=odd><td class=val>insomnia</td>\n",
       "<td class=val>3</td></tr><tr class=even><td class=val>cocaine dependence</td>\n",
       "<td class=val>3</td></tr><tr class=odd><td class=val>Lewy body dementia</td>\n",
       "<td class=val>3</td></tr><tr class=even><td class=val>dyscalculia</td>\n",
       "<td class=val>3</td></tr><tr class=odd><td class=val>histrionic personality disorder</td>\n",
       "<td class=val>3</td></tr><tr class=even><td class=val>Alteración del estado mental</td>\n",
       "<td class=val>3</td></tr><tr class=odd><td class=val>aphasia</td>\n",
       "<td class=val>3</td></tr><tr class=even><td class=val>frontotemporal dementia</td>\n",
       "<td class=val>3</td></tr><tr class=odd><td class=val>bulimia nervosa</td>\n",
       "<td class=val>3</td></tr><tr class=even><td class=val>neurasthenia</td>\n",
       "<td class=val>3</td></tr></table><div class=\"tinfo\">Total: 120, Shown: 50</div></div>"
      ]
     },
     "metadata": {},
     "output_type": "display_data"
    }
   ],
   "source": [
    "SELECT ?diseaseLabel (count(distinct ?artist) as ?artistNumber)\n",
    "WHERE {\n",
    "      ?artist wdt:P31 wd:Q5.\n",
    "      ?artist wdt:P106/wdt:P279+ wd:Q483501.\n",
    "      ?artist wdt:P1050 ?disease.\n",
    "      ?disease wdt:P279+ wd:Q12135.\n",
    "      ?disease rdfs:label ?diseaseLabel.\n",
    "      FILTER (lang(?diseaseLabel) = \"en\")\n",
    "}\n",
    "GROUP BY ?diseaseLabel\n",
    "ORDER BY DESC (?artistNumber)"
   ]
  },
  {
   "cell_type": "markdown",
   "id": "94cff9dd",
   "metadata": {
    "kernel": "SPARQL"
   },
   "source": [
    "# Data visualization: numero di artisti per 'mental disorder'."
   ]
  },
  {
   "cell_type": "markdown",
   "id": "dcf3708a",
   "metadata": {
    "kernel": "SPARQL"
   },
   "source": [
    "Un esempio di visualizzazione per i <b>sette</b> disordini più comuni (balbuzie esclusa)."
   ]
  },
  {
   "cell_type": "code",
   "execution_count": 15,
   "id": "9e11b8e5",
   "metadata": {
    "kernel": "Python 3 (ipykernel)"
   },
   "outputs": [
    {
     "data": {
      "image/png": "[encoded data removed]",
      "text/plain": [
       "<Figure size 432x288 with 1 Axes>"
      ]
     },
     "metadata": {},
     "output_type": "display_data"
    }
   ],
   "source": [
    "#define data\n",
    "data = [24.6,19.5, 18.4, 9.6, 9.5, 9.3, 9.0]\n",
    "labels = ['Bipolar disorder', 'Dyslexia', 'Autism', 'ADHD', 'Asperger syndrome', 'Schizophrenia', 'Mental depression']\n",
    "\n",
    "#define Seaborn color palette to use\n",
    "colors = sns.color_palette('pastel')[0:5]\n",
    "\n",
    "#create pie chart\n",
    "plt.pie(data, labels = labels, colors = colors, autopct='%.0f%%')\n",
    "plt.show()"
   ]
  },
  {
   "cell_type": "markdown",
   "id": "1a4d9f59",
   "metadata": {
    "kernel": "Python 3 (ipykernel)"
   },
   "source": [
    "## 7. Numero di persone e di artisti affetti da bipolarismo."
   ]
  },
  {
   "cell_type": "markdown",
   "id": "460f6e2a",
   "metadata": {
    "kernel": "Python 3 (ipykernel)"
   },
   "source": [
    "Il <b>bipolarismo</b> risulta il disturbo più diffuso tra gli artisti. \n",
    "\n",
    "Su Wikidata, quante persone soffrono di bipolarismo?"
   ]
  },
  {
   "cell_type": "code",
   "execution_count": 70,
   "id": "65013a2c",
   "metadata": {
    "kernel": "SPARQL"
   },
   "outputs": [
    {
     "data": {
      "text/html": [
       "<div class=\"krn-spql\"><table><tr class=hdr><th>peopleCount</th></tr><tr class=odd><td class=val>381</td></tr></table><div class=\"tinfo\">Total: 1, Shown: 1</div></div>"
      ]
     },
     "metadata": {},
     "output_type": "display_data"
    }
   ],
   "source": [
    "SELECT (COUNT(DISTINCT ?person) as ?peopleCount)\n",
    "WHERE { \n",
    "  ?person wdt:P31 wd:Q5.\n",
    "  ?person wdt:P1050/wdt:P279* wd:Q131755.\n",
    "}  "
   ]
  },
  {
   "cell_type": "markdown",
   "id": "af3fa52a",
   "metadata": {
    "kernel": "SPARQL"
   },
   "source": [
    "... e quanti artisti?"
   ]
  },
  {
   "cell_type": "code",
   "execution_count": 71,
   "id": "ad4baed4",
   "metadata": {
    "kernel": "SPARQL"
   },
   "outputs": [
    {
     "data": {
      "text/html": [
       "<div class=\"krn-spql\"><table><tr class=hdr><th>artistCount</th></tr><tr class=odd><td class=val>266</td></tr></table><div class=\"tinfo\">Total: 1, Shown: 1</div></div>"
      ]
     },
     "metadata": {},
     "output_type": "display_data"
    }
   ],
   "source": [
    "SELECT (COUNT(DISTINCT ?artist) as ?artistCount)\n",
    "WHERE { \n",
    "  ?artist wdt:P31 wd:Q5.\n",
    "  ?artist wdt:P106/wdt:P279+ wd:Q483501.\n",
    "  ?artist wdt:P1050/wdt:279* wd:Q131755.\n",
    "}  "
   ]
  },
  {
   "cell_type": "markdown",
   "id": "b57dbbff",
   "metadata": {
    "kernel": "SPARQL"
   },
   "source": [
    "Su wikidata, la percentuale di artisti affetti da bipolarismo sul totale delle persone affette da bipolarismo è: <b>67%</b>.\n",
    "\n",
    "Ripetiamo la queries per le altre sei patologie più diffuse e diamo una resa grafica dei risultati."
   ]
  },
  {
   "cell_type": "markdown",
   "id": "8e52b42a",
   "metadata": {
    "kernel": "SPARQL"
   },
   "source": [
    "## Dislessia"
   ]
  },
  {
   "cell_type": "code",
   "execution_count": 72,
   "id": "cc963a2b",
   "metadata": {
    "kernel": "SPARQL"
   },
   "outputs": [
    {
     "data": {
      "text/html": [
       "<div class=\"krn-spql\"><table><tr class=hdr><th>peopleCount</th></tr><tr class=odd><td class=val>288</td></tr></table><div class=\"tinfo\">Total: 1, Shown: 1</div></div>"
      ]
     },
     "metadata": {},
     "output_type": "display_data"
    }
   ],
   "source": [
    "SELECT (COUNT(DISTINCT ?person) as ?peopleCount)\n",
    "WHERE { \n",
    "  ?person wdt:P31 wd:Q5.\n",
    "  ?person wdt:P1050/wdt:P279* wd:Q132971.\n",
    "}  "
   ]
  },
  {
   "cell_type": "code",
   "execution_count": 73,
   "id": "05ae9062",
   "metadata": {
    "kernel": "SPARQL"
   },
   "outputs": [
    {
     "data": {
      "text/html": [
       "<div class=\"krn-spql\"><table><tr class=hdr><th>artistCount</th></tr><tr class=odd><td class=val>212</td></tr></table><div class=\"tinfo\">Total: 1, Shown: 1</div></div>"
      ]
     },
     "metadata": {},
     "output_type": "display_data"
    }
   ],
   "source": [
    "SELECT (COUNT(DISTINCT ?artist) as ?artistCount)\n",
    "WHERE { \n",
    "  ?artist wdt:P31 wd:Q5.\n",
    "  ?artist wdt:P106/wdt:P279+ wd:Q483501.\n",
    "  ?artist wdt:P1050/wdt:279* wd:Q132971.\n",
    "}  "
   ]
  },
  {
   "cell_type": "markdown",
   "id": "c6c80dff",
   "metadata": {
    "kernel": "SPARQL"
   },
   "source": [
    "Su Wikidata, la percentuale di artisti affetti da dislessia sul totale delle persone affette da dislessia è: <b>74%</b>."
   ]
  },
  {
   "cell_type": "markdown",
   "id": "29aaf92d",
   "metadata": {
    "kernel": "SPARQL"
   },
   "source": [
    "## Autismo"
   ]
  },
  {
   "cell_type": "code",
   "execution_count": 74,
   "id": "ce2d551e",
   "metadata": {
    "kernel": "SPARQL"
   },
   "outputs": [
    {
     "data": {
      "text/html": [
       "<div class=\"krn-spql\"><table><tr class=hdr><th>peopleCount</th></tr><tr class=odd><td class=val>261</td></tr></table><div class=\"tinfo\">Total: 1, Shown: 1</div></div>"
      ]
     },
     "metadata": {},
     "output_type": "display_data"
    }
   ],
   "source": [
    "SELECT (COUNT(DISTINCT ?person) as ?peopleCount)\n",
    "WHERE { \n",
    "  ?person wdt:P31 wd:Q5.\n",
    "  ?person wdt:P1050/wdt:P279* wd:Q38404.\n",
    "}  "
   ]
  },
  {
   "cell_type": "code",
   "execution_count": 75,
   "id": "ea274faa",
   "metadata": {
    "kernel": "SPARQL"
   },
   "outputs": [
    {
     "data": {
      "text/html": [
       "<div class=\"krn-spql\"><table><tr class=hdr><th>artistCount</th></tr><tr class=odd><td class=val>198</td></tr></table><div class=\"tinfo\">Total: 1, Shown: 1</div></div>"
      ]
     },
     "metadata": {},
     "output_type": "display_data"
    }
   ],
   "source": [
    "SELECT (COUNT(DISTINCT ?artist) as ?artistCount)\n",
    "WHERE { \n",
    "  ?artist wdt:P31 wd:Q5.\n",
    "  ?artist wdt:P106/wdt:P279+ wd:Q483501.\n",
    "  ?artist wdt:P1050/wdt:279* wd:Q38404.\n",
    "}  "
   ]
  },
  {
   "cell_type": "markdown",
   "id": "555d0bc8",
   "metadata": {
    "kernel": "SPARQL"
   },
   "source": [
    "Su Wikidata, la percentuale di artisti affetti da autismo sul totale delle persone affette da autismo è: <b>76%</b>."
   ]
  },
  {
   "cell_type": "markdown",
   "id": "e02eeefb",
   "metadata": {
    "kernel": "SPARQL"
   },
   "source": [
    "## ADHD."
   ]
  },
  {
   "cell_type": "code",
   "execution_count": 78,
   "id": "6c022175",
   "metadata": {
    "kernel": "SPARQL"
   },
   "outputs": [
    {
     "data": {
      "text/html": [
       "<div class=\"krn-spql\"><table><tr class=hdr><th>peopleCount</th></tr><tr class=odd><td class=val>122</td></tr></table><div class=\"tinfo\">Total: 1, Shown: 1</div></div>"
      ]
     },
     "metadata": {},
     "output_type": "display_data"
    }
   ],
   "source": [
    "SELECT (COUNT(DISTINCT ?person) as ?peopleCount)\n",
    "WHERE { \n",
    "  ?person wdt:P31 wd:Q5.\n",
    "  ?person wdt:P1050/wdt:P279* wd:Q181923.\n",
    "}  "
   ]
  },
  {
   "cell_type": "code",
   "execution_count": 79,
   "id": "56d27eb6",
   "metadata": {
    "kernel": "SPARQL"
   },
   "outputs": [
    {
     "data": {
      "text/html": [
       "<div class=\"krn-spql\"><table><tr class=hdr><th>artistCount</th></tr><tr class=odd><td class=val>102</td></tr></table><div class=\"tinfo\">Total: 1, Shown: 1</div></div>"
      ]
     },
     "metadata": {},
     "output_type": "display_data"
    }
   ],
   "source": [
    "SELECT (COUNT(DISTINCT ?artist) as ?artistCount)\n",
    "WHERE { \n",
    "  ?artist wdt:P31 wd:Q5.\n",
    "  ?artist wdt:P106/wdt:P279+ wd:Q483501.\n",
    "  ?artist wdt:P1050/wdt:279* wd:Q181923.\n",
    "}  "
   ]
  },
  {
   "cell_type": "markdown",
   "id": "652f80cf",
   "metadata": {
    "kernel": "SPARQL"
   },
   "source": [
    "Su Wikidata, la percentuale di artisti affetti da ADHD sul totale delle persone affette da ADHD è: <b>84%</b>."
   ]
  },
  {
   "cell_type": "markdown",
   "id": "c987675b",
   "metadata": {
    "kernel": "SPARQL"
   },
   "source": [
    "## Asperger"
   ]
  },
  {
   "cell_type": "code",
   "execution_count": 80,
   "id": "89ea2c98",
   "metadata": {
    "kernel": "SPARQL"
   },
   "outputs": [
    {
     "data": {
      "text/html": [
       "<div class=\"krn-spql\"><table><tr class=hdr><th>peopleCount</th></tr><tr class=odd><td class=val>131</td></tr></table><div class=\"tinfo\">Total: 1, Shown: 1</div></div>"
      ]
     },
     "metadata": {},
     "output_type": "display_data"
    }
   ],
   "source": [
    "SELECT (COUNT(DISTINCT ?person) as ?peopleCount)\n",
    "WHERE { \n",
    "  ?person wdt:P31 wd:Q5.\n",
    "  ?person wdt:P1050/wdt:P279* wd:Q161790.\n",
    "}  "
   ]
  },
  {
   "cell_type": "code",
   "execution_count": 81,
   "id": "6e7a3ef1",
   "metadata": {
    "kernel": "SPARQL"
   },
   "outputs": [
    {
     "data": {
      "text/html": [
       "<div class=\"krn-spql\"><table><tr class=hdr><th>artistCount</th></tr><tr class=odd><td class=val>102</td></tr></table><div class=\"tinfo\">Total: 1, Shown: 1</div></div>"
      ]
     },
     "metadata": {},
     "output_type": "display_data"
    }
   ],
   "source": [
    "SELECT (COUNT(DISTINCT ?artist) as ?artistCount)\n",
    "WHERE {\n",
    "  ?artist wdt:P31 wd:Q5.\n",
    "  ?artist wdt:P106/wdt:P279+ wd:Q483501.\n",
    "  ?artist wdt:P1050/wdt:279* wd:Q161790.\n",
    "}  "
   ]
  },
  {
   "cell_type": "markdown",
   "id": "0f0d95dc",
   "metadata": {
    "kernel": "SPARQL"
   },
   "source": [
    "Su Wikidata, la percentuale di artisti affetti da sindrome di asperger sul totale delle persone affette da sindrome di asperger è: <b>78%</b>."
   ]
  },
  {
   "cell_type": "markdown",
   "id": "503fcb88",
   "metadata": {
    "kernel": "SPARQL"
   },
   "source": [
    "## Schizofrenia."
   ]
  },
  {
   "cell_type": "code",
   "execution_count": 83,
   "id": "7e81c21b",
   "metadata": {
    "kernel": "SPARQL"
   },
   "outputs": [
    {
     "data": {
      "text/html": [
       "<div class=\"krn-spql\"><table><tr class=hdr><th>peopleCount</th></tr><tr class=odd><td class=val>143</td></tr></table><div class=\"tinfo\">Total: 1, Shown: 1</div></div>"
      ]
     },
     "metadata": {},
     "output_type": "display_data"
    }
   ],
   "source": [
    "SELECT (COUNT(DISTINCT ?person) as ?peopleCount)\n",
    "WHERE {\n",
    "  ?person wdt:P31 wd:Q5.\n",
    "  ?person wdt:P1050/wdt:P279* wd:Q41112.\n",
    "}  "
   ]
  },
  {
   "cell_type": "code",
   "execution_count": 84,
   "id": "5da3ec1b",
   "metadata": {
    "kernel": "SPARQL"
   },
   "outputs": [
    {
     "data": {
      "text/html": [
       "<div class=\"krn-spql\"><table><tr class=hdr><th>artistCount</th></tr><tr class=odd><td class=val>100</td></tr></table><div class=\"tinfo\">Total: 1, Shown: 1</div></div>"
      ]
     },
     "metadata": {},
     "output_type": "display_data"
    }
   ],
   "source": [
    "SELECT (COUNT(DISTINCT ?artist) as ?artistCount)\n",
    "WHERE {\n",
    "  ?artist wdt:P31 wd:Q5.\n",
    "  ?artist wdt:P106/wdt:P279+ wd:Q483501.\n",
    "  ?artist wdt:P1050/wdt:279* wd:Q41112.\n",
    "}  "
   ]
  },
  {
   "cell_type": "markdown",
   "id": "54653aba",
   "metadata": {
    "kernel": "SPARQL"
   },
   "source": [
    "Su Wikidata, la percentuale di artisti affetti da schizofrenia sul totale delle persone affette da schizofrenia è: <b>70%</b>."
   ]
  },
  {
   "cell_type": "markdown",
   "id": "3f6fc023",
   "metadata": {
    "kernel": "SPARQL"
   },
   "source": [
    "# Mental depression."
   ]
  },
  {
   "cell_type": "code",
   "execution_count": 85,
   "id": "54447d69",
   "metadata": {
    "kernel": "SPARQL"
   },
   "outputs": [
    {
     "data": {
      "text/html": [
       "<div class=\"krn-spql\"><table><tr class=hdr><th>peopleCount</th></tr><tr class=odd><td class=val>168</td></tr></table><div class=\"tinfo\">Total: 1, Shown: 1</div></div>"
      ]
     },
     "metadata": {},
     "output_type": "display_data"
    }
   ],
   "source": [
    "SELECT (COUNT(DISTINCT ?person) as ?peopleCount)\n",
    "WHERE {\n",
    "  ?person wdt:P31 wd:Q5.\n",
    "  ?person wdt:P1050/wdt:P279* wd:Q4340209.\n",
    "}  "
   ]
  },
  {
   "cell_type": "code",
   "execution_count": 86,
   "id": "88f9d36e",
   "metadata": {
    "kernel": "SPARQL"
   },
   "outputs": [
    {
     "data": {
      "text/html": [
       "<div class=\"krn-spql\"><table><tr class=hdr><th>artistCount</th></tr><tr class=odd><td class=val>98</td></tr></table><div class=\"tinfo\">Total: 1, Shown: 1</div></div>"
      ]
     },
     "metadata": {},
     "output_type": "display_data"
    }
   ],
   "source": [
    "SELECT (COUNT(DISTINCT ?artist) as ?artistCount)\n",
    "WHERE {\n",
    "  ?artist wdt:P31 wd:Q5.\n",
    "  ?artist wdt:P106/wdt:P279+ wd:Q483501.\n",
    "  ?artist wdt:P1050/wdt:279* wd:Q4340209.\n",
    "}  "
   ]
  },
  {
   "cell_type": "markdown",
   "id": "6e91a8e4",
   "metadata": {
    "kernel": "SPARQL"
   },
   "source": [
    "Su Wikidata, la percentuale di artisti affetti da 'mental depression' sul totale delle persone affette da 'mental depression' è: <b>58%</b>."
   ]
  },
  {
   "cell_type": "markdown",
   "id": "fca806c1",
   "metadata": {
    "kernel": "SPARQL"
   },
   "source": [
    "# Data visualization: artisti sul totale di persone affette da data patologia"
   ]
  },
  {
   "cell_type": "code",
   "execution_count": 87,
   "id": "1826cab8",
   "metadata": {
    "kernel": "Python 3 (ipykernel)"
   },
   "outputs": [
    {
     "data": {
      "image/png": "[encoded data removed]",
      "text/plain": [
       "<Figure size 432x288 with 1 Axes>"
      ]
     },
     "metadata": {
      "needs_background": "light"
     },
     "output_type": "display_data"
    }
   ],
   "source": [
    "# import necessary libraries\n",
    "import pandas as pd\n",
    "#import seaborn as sns\n",
    "import matplotlib.pyplot as plt\n",
    " \n",
    "# create DataFrame\n",
    "df = pd.DataFrame({'Artists': [67, 74, 76, 80, 78, 70, 58],\n",
    "                   'Non-artists': [33, 26, 24, 20, 22, 30, 42]\n",
    "                  },\n",
    "                  index=['Bipolarismo', 'Dislessia', 'Autismo', 'ADHD', 'Asperger', 'Schizofrenia', 'Depressione'])\n",
    " \n",
    " \n",
    "# create stacked bar chart for monthly temperatures\n",
    "df.plot(kind='bar', stacked=True, color=['pink', 'skyblue'])\n",
    "\n",
    "# Put a legend to the right of the current axis\n",
    "plt.legend(loc='upper left', bbox_to_anchor=(1, 0.5))\n",
    "\n",
    "# labels for x & y axis\n",
    "plt.xlabel('Patologie')\n",
    "plt.ylabel('Persone')\n",
    " \n",
    "# title of plot\n",
    "plt.title('Artisti sul totale delle persone affetta da una data patologia')\n",
    "plt.show()"
   ]
  },
  {
   "cell_type": "markdown",
   "id": "66ef8832",
   "metadata": {
    "kernel": "SPARQL"
   },
   "source": [
    "## 8. Numero di artisti con mental disorder divisi per occupazione."
   ]
  },
  {
   "cell_type": "code",
   "execution_count": 90,
   "id": "82f15424",
   "metadata": {
    "kernel": "SPARQL"
   },
   "outputs": [
    {
     "data": {
      "text/html": [
       "<div class=\"krn-spql\"><table><tr class=hdr><th>occupationLabel</th>\n",
       "<th>artistNumber</th></tr><tr class=odd><td class=val>writer</td>\n",
       "<td class=val>399</td></tr><tr class=even><td class=val>actor</td>\n",
       "<td class=val>358</td></tr><tr class=odd><td class=val>singer</td>\n",
       "<td class=val>260</td></tr><tr class=even><td class=val>film actor</td>\n",
       "<td class=val>219</td></tr><tr class=odd><td class=val>television actor</td>\n",
       "<td class=val>193</td></tr><tr class=even><td class=val>screenwriter</td>\n",
       "<td class=val>170</td></tr><tr class=odd><td class=val>musician</td>\n",
       "<td class=val>139</td></tr><tr class=even><td class=val>composer</td>\n",
       "<td class=val>122</td></tr><tr class=odd><td class=val>singer-songwriter</td>\n",
       "<td class=val>112</td></tr><tr class=even><td class=val>poet</td>\n",
       "<td class=val>102</td></tr><tr class=odd><td class=val>film director</td>\n",
       "<td class=val>100</td></tr><tr class=even><td class=val>songwriter</td>\n",
       "<td class=val>97</td></tr><tr class=odd><td class=val>stage actor</td>\n",
       "<td class=val>93</td></tr><tr class=even><td class=val>voice actor</td>\n",
       "<td class=val>93</td></tr><tr class=odd><td class=val>novelist</td>\n",
       "<td class=val>88</td></tr><tr class=even><td class=val>comedian</td>\n",
       "<td class=val>88</td></tr><tr class=odd><td class=val>television presenter</td>\n",
       "<td class=val>86</td></tr><tr class=even><td class=val>painter</td>\n",
       "<td class=val>80</td></tr><tr class=odd><td class=val>guitarist</td>\n",
       "<td class=val>79</td></tr><tr class=even><td class=val>YouTuber</td>\n",
       "<td class=val>54</td></tr><tr class=odd><td class=val>autobiographer</td>\n",
       "<td class=val>43</td></tr><tr class=even><td class=val>playwright</td>\n",
       "<td class=val>39</td></tr><tr class=odd><td class=val>blogger</td>\n",
       "<td class=val>36</td></tr><tr class=even><td class=val>recording artist</td>\n",
       "<td class=val>35</td></tr><tr class=odd><td class=val>pianist</td>\n",
       "<td class=val>34</td></tr><tr class=even><td class=val>photographer</td>\n",
       "<td class=val>33</td></tr><tr class=odd><td class=val>director</td>\n",
       "<td class=val>32</td></tr><tr class=even><td class=val>children's writer</td>\n",
       "<td class=val>30</td></tr><tr class=odd><td class=val>rapper</td>\n",
       "<td class=val>29</td></tr><tr class=even><td class=val>stand-up comedian</td>\n",
       "<td class=val>26</td></tr><tr class=odd><td class=val>translator</td>\n",
       "<td class=val>25</td></tr><tr class=even><td class=val>science fiction writer</td>\n",
       "<td class=val>25</td></tr><tr class=odd><td class=val>philosopher</td>\n",
       "<td class=val>24</td></tr><tr class=even><td class=val>sculptor</td>\n",
       "<td class=val>21</td></tr><tr class=odd><td class=val>dancer</td>\n",
       "<td class=val>20</td></tr><tr class=even><td class=val>literary critic</td>\n",
       "<td class=val>19</td></tr><tr class=odd><td class=val>drawer</td>\n",
       "<td class=val>17</td></tr><tr class=even><td class=val>designer</td>\n",
       "<td class=val>17</td></tr><tr class=odd><td class=val>illustrator</td>\n",
       "<td class=val>17</td></tr><tr class=even><td class=val>jazz musician</td>\n",
       "<td class=val>16</td></tr><tr class=odd><td class=val>professional wrestler</td>\n",
       "<td class=val>15</td></tr><tr class=even><td class=val>fashion designer</td>\n",
       "<td class=val>15</td></tr><tr class=odd><td class=val>essayist</td>\n",
       "<td class=val>14</td></tr><tr class=even><td class=val>animator</td>\n",
       "<td class=val>13</td></tr><tr class=odd><td class=val>columnist</td>\n",
       "<td class=val>13</td></tr><tr class=even><td class=val>mathematician</td>\n",
       "<td class=val>13</td></tr><tr class=odd><td class=val>disc jockey</td>\n",
       "<td class=val>12</td></tr><tr class=even><td class=val>historian</td>\n",
       "<td class=val>12</td></tr><tr class=odd><td class=val>lyricist</td>\n",
       "<td class=val>11</td></tr><tr class=even><td class=val>editor</td>\n",
       "<td class=val>11</td></tr></table><div class=\"tinfo\">Total: 332, Shown: 50</div></div>"
      ]
     },
     "metadata": {},
     "output_type": "display_data"
    }
   ],
   "source": [
    "SELECT ?occupationLabel (count(distinct ?artist) as ?artistNumber)\n",
    "WHERE {\n",
    "      ?artist wdt:P31 wd:Q5.\n",
    "      ?artist wdt:P106 ?occupation.\n",
    "      ?occupation wdt:P279+ wd:Q483501.\n",
    "      ?occupation rdfs:label ?occupationLabel.\n",
    "      ?artist wdt:P1050 ?disease.\n",
    "      ?disease wdt:P279+ wd:Q12135.\n",
    "      FILTER (lang(?occupationLabel) = \"en\")\n",
    "}\n",
    "GROUP BY ?occupationLabel\n",
    "ORDER BY DESC (?artistNumber) "
   ]
  },
  {
   "cell_type": "markdown",
   "id": "a9a84583",
   "metadata": {
    "kernel": "SPARQL"
   },
   "source": [
    "## Data visualization: artisti affetti da disorder con relativa occupazione"
   ]
  },
  {
   "cell_type": "code",
   "execution_count": 16,
   "id": "3e24a8e6",
   "metadata": {
    "kernel": "Python 3 (ipykernel)"
   },
   "outputs": [
    {
     "data": {
      "image/png": "[encoded data removed]",
      "text/plain": [
       "<Figure size 432x288 with 1 Axes>"
      ]
     },
     "metadata": {},
     "output_type": "display_data"
    }
   ],
   "source": [
    "#define data\n",
    "data = [22.3,20.6, 15.1, 12.5, 11, 9.7, 7.9]\n",
    "labels = ['writer', 'actor', 'singer', 'film actor', 'television actor', 'screenwriter', 'musician']\n",
    "\n",
    "#define Seaborn color palette to use\n",
    "colors = sns.color_palette('pastel')[0:5]\n",
    "\n",
    "#create pie chart\n",
    "plt.pie(data, labels = labels, colors = colors, autopct='%.0f%%')\n",
    "plt.show()"
   ]
  },
  {
   "cell_type": "markdown",
   "id": "630ccd84",
   "metadata": {
    "kernel": "Python 3 (ipykernel)"
   },
   "source": [
    "## 9. Numero di artisti per occupazione e disorder."
   ]
  },
  {
   "cell_type": "code",
   "execution_count": 3,
   "id": "5b950c19",
   "metadata": {
    "kernel": "SPARQL"
   },
   "outputs": [
    {
     "data": {
      "text/html": [
       "<div class=\"krn-spql\"><table><tr class=hdr><th>occupationLabel</th>\n",
       "<th>diseaseLabel</th>\n",
       "<th>artistNumber</th></tr><tr class=odd><td class=val>actor</td>\n",
       "<td class=val>bipolar disorder</td>\n",
       "<td class=val>76</td></tr><tr class=even><td class=val>actor</td>\n",
       "<td class=val>dyslexia</td>\n",
       "<td class=val>70</td></tr><tr class=odd><td class=val>singer</td>\n",
       "<td class=val>bipolar disorder</td>\n",
       "<td class=val>64</td></tr><tr class=even><td class=val>writer</td>\n",
       "<td class=val>bipolar disorder</td>\n",
       "<td class=val>62</td></tr><tr class=odd><td class=val>writer</td>\n",
       "<td class=val>autism</td>\n",
       "<td class=val>60</td></tr><tr class=even><td class=val>writer</td>\n",
       "<td class=val>dyslexia</td>\n",
       "<td class=val>52</td></tr><tr class=odd><td class=val>film actor</td>\n",
       "<td class=val>dyslexia</td>\n",
       "<td class=val>48</td></tr><tr class=even><td class=val>singer</td>\n",
       "<td class=val>dyslexia</td>\n",
       "<td class=val>45</td></tr><tr class=odd><td class=val>television actor</td>\n",
       "<td class=val>bipolar disorder</td>\n",
       "<td class=val>45</td></tr><tr class=even><td class=val>film actor</td>\n",
       "<td class=val>bipolar disorder</td>\n",
       "<td class=val>45</td></tr><tr class=odd><td class=val>television actor</td>\n",
       "<td class=val>dyslexia</td>\n",
       "<td class=val>39</td></tr><tr class=even><td class=val>writer</td>\n",
       "<td class=val>stuttering</td>\n",
       "<td class=val>38</td></tr><tr class=odd><td class=val>musician</td>\n",
       "<td class=val>bipolar disorder</td>\n",
       "<td class=val>36</td></tr><tr class=even><td class=val>actor</td>\n",
       "<td class=val>attention deficit hyperactivity disorder</td>\n",
       "<td class=val>35</td></tr><tr class=odd><td class=val>actor</td>\n",
       "<td class=val>stuttering</td>\n",
       "<td class=val>35</td></tr><tr class=even><td class=val>composer</td>\n",
       "<td class=val>bipolar disorder</td>\n",
       "<td class=val>34</td></tr><tr class=odd><td class=val>writer</td>\n",
       "<td class=val>Asperger syndrome</td>\n",
       "<td class=val>33</td></tr><tr class=even><td class=val>songwriter</td>\n",
       "<td class=val>bipolar disorder</td>\n",
       "<td class=val>32</td></tr><tr class=odd><td class=val>film actor</td>\n",
       "<td class=val>stuttering</td>\n",
       "<td class=val>32</td></tr><tr class=even><td class=val>screenwriter</td>\n",
       "<td class=val>bipolar disorder</td>\n",
       "<td class=val>31</td></tr><tr class=odd><td class=val>singer-songwriter</td>\n",
       "<td class=val>bipolar disorder</td>\n",
       "<td class=val>31</td></tr><tr class=even><td class=val>singer</td>\n",
       "<td class=val>autism</td>\n",
       "<td class=val>30</td></tr><tr class=odd><td class=val>singer</td>\n",
       "<td class=val>attention deficit hyperactivity disorder</td>\n",
       "<td class=val>30</td></tr><tr class=even><td class=val>writer</td>\n",
       "<td class=val>schizophrenia</td>\n",
       "<td class=val>29</td></tr><tr class=odd><td class=val>writer</td>\n",
       "<td class=val>mental depression</td>\n",
       "<td class=val>29</td></tr><tr class=even><td class=val>singer</td>\n",
       "<td class=val>stuttering</td>\n",
       "<td class=val>29</td></tr><tr class=odd><td class=val>actor</td>\n",
       "<td class=val>mental depression</td>\n",
       "<td class=val>29</td></tr><tr class=even><td class=val>screenwriter</td>\n",
       "<td class=val>dyslexia</td>\n",
       "<td class=val>28</td></tr><tr class=odd><td class=val>television actor</td>\n",
       "<td class=val>stuttering</td>\n",
       "<td class=val>28</td></tr><tr class=even><td class=val>screenwriter</td>\n",
       "<td class=val>stuttering</td>\n",
       "<td class=val>26</td></tr><tr class=odd><td class=val>musician</td>\n",
       "<td class=val>autism</td>\n",
       "<td class=val>24</td></tr><tr class=even><td class=val>actor</td>\n",
       "<td class=val>autism</td>\n",
       "<td class=val>24</td></tr><tr class=odd><td class=val>film director</td>\n",
       "<td class=val>dyslexia</td>\n",
       "<td class=val>24</td></tr><tr class=even><td class=val>singer-songwriter</td>\n",
       "<td class=val>dyslexia</td>\n",
       "<td class=val>24</td></tr><tr class=odd><td class=val>guitarist</td>\n",
       "<td class=val>bipolar disorder</td>\n",
       "<td class=val>24</td></tr><tr class=even><td class=val>voice actor</td>\n",
       "<td class=val>dyslexia</td>\n",
       "<td class=val>23</td></tr><tr class=odd><td class=val>poet</td>\n",
       "<td class=val>bipolar disorder</td>\n",
       "<td class=val>22</td></tr><tr class=even><td class=val>actor</td>\n",
       "<td class=val>Asperger syndrome</td>\n",
       "<td class=val>22</td></tr><tr class=odd><td class=val>television presenter</td>\n",
       "<td class=val>dyslexia</td>\n",
       "<td class=val>22</td></tr><tr class=even><td class=val>novelist</td>\n",
       "<td class=val>bipolar disorder</td>\n",
       "<td class=val>21</td></tr><tr class=odd><td class=val>painter</td>\n",
       "<td class=val>schizophrenia</td>\n",
       "<td class=val>20</td></tr><tr class=even><td class=val>stage actor</td>\n",
       "<td class=val>dyslexia</td>\n",
       "<td class=val>20</td></tr><tr class=odd><td class=val>writer</td>\n",
       "<td class=val>attention deficit hyperactivity disorder</td>\n",
       "<td class=val>19</td></tr><tr class=even><td class=val>poet</td>\n",
       "<td class=val>schizophrenia</td>\n",
       "<td class=val>19</td></tr><tr class=odd><td class=val>singer</td>\n",
       "<td class=val>mental depression</td>\n",
       "<td class=val>19</td></tr><tr class=even><td class=val>stage actor</td>\n",
       "<td class=val>bipolar disorder</td>\n",
       "<td class=val>19</td></tr><tr class=odd><td class=val>singer</td>\n",
       "<td class=val>schizophrenia</td>\n",
       "<td class=val>18</td></tr><tr class=even><td class=val>singer</td>\n",
       "<td class=val>Asperger syndrome</td>\n",
       "<td class=val>18</td></tr><tr class=odd><td class=val>film director</td>\n",
       "<td class=val>bipolar disorder</td>\n",
       "<td class=val>18</td></tr><tr class=even><td class=val>film actor</td>\n",
       "<td class=val>mental depression</td>\n",
       "<td class=val>18</td></tr></table><div class=\"tinfo\">Total: 1711, Shown: 50</div></div>"
      ]
     },
     "metadata": {},
     "output_type": "display_data"
    }
   ],
   "source": [
    "SELECT ?occupationLabel ?diseaseLabel (count(distinct ?artist) as ?artistNumber)\n",
    "WHERE {\n",
    "      ?artist wdt:P31 wd:Q5.\n",
    "      ?artist wdt:P106 ?occupation.\n",
    "      ?occupation wdt:P279+ wd:Q483501.\n",
    "      ?occupation rdfs:label ?occupationLabel.\n",
    "      ?artist wdt:P1050 ?disease.\n",
    "      ?disease wdt:P279+ wd:Q12135.\n",
    "\t  ?disease rdfs:label ?diseaseLabel.\n",
    "      FILTER (lang(?occupationLabel) = \"en\")\n",
    "      FILTER (lang(?diseaseLabel) = \"en\")\n",
    "}\n",
    "GROUP BY ?occupationLabel ?diseaseLabel\n",
    "ORDER BY DESC (?artistNumber)"
   ]
  },
  {
   "cell_type": "markdown",
   "id": "7c3e4b33",
   "metadata": {
    "kernel": "SPARQL"
   },
   "source": [
    "## 10. Artisti con mental disorders e relative date di nascita e morte"
   ]
  },
  {
   "cell_type": "code",
   "execution_count": 10,
   "id": "e86606d1",
   "metadata": {
    "kernel": "SPARQL"
   },
   "outputs": [
    {
     "data": {
      "text/html": [
       "<div class=\"krn-spql\"><div class=\"magic\">Endpoint set to: https://query.wikidata.org/sparql</div><div class=\"magic\">Request format: JSON</div><div class=\"magic\">Display: table</div><div class=\"magic\">Result maximum size: 50</div><div class=\"magic\">Output file: C:\\Users\\Francesca\\birth_death.json</div></div>"
      ],
      "text/plain": [
       "Endpoint set to: https://query.wikidata.org/sparql\n",
       "Request format: JSON\n",
       "Display: table\n",
       "Result maximum size: 50\n",
       "Output file: C:\\Users\\Francesca\\birth_death.json\n"
      ]
     },
     "metadata": {},
     "output_type": "display_data"
    },
    {
     "data": {
      "text/html": [
       "<div class=\"krn-spql\"><table><tr class=hdr><th>artistLabel</th>\n",
       "<th>yearOfBirth</th>\n",
       "<th>yearOfDeath</th></tr><tr class=odd><td class=val>Demosthenes</td>\n",
       "<td class=val>-383</td>\n",
       "<td class=val>-321</td></tr><tr class=even><td class=val>Aristotle</td>\n",
       "<td class=val>-383</td>\n",
       "<td class=val>-321</td></tr><tr class=odd><td class=val>Han Fei</td>\n",
       "<td class=val>-279</td>\n",
       "<td class=val>-232</td></tr><tr class=even><td class=val>Sima Xiangru</td>\n",
       "<td class=val>-178</td>\n",
       "<td class=val>-116</td></tr><tr class=odd><td class=val>Yang Xiong</td>\n",
       "<td class=val>-52</td>\n",
       "<td class=val>18</td></tr><tr class=even><td class=val>Claudius</td>\n",
       "<td class=val>-9</td>\n",
       "<td class=val>54</td></tr><tr class=odd><td class=val>Notker the Stammerer</td>\n",
       "<td class=val>840</td>\n",
       "<td class=val>912</td></tr><tr class=even><td class=val>Niccolò Tartaglia</td>\n",
       "<td class=val>1499</td>\n",
       "<td class=val>1557</td></tr><tr class=odd><td class=val>Ivan IV Vasilyevich</td>\n",
       "<td class=val>1530</td>\n",
       "<td class=val>1584</td></tr><tr class=even><td class=val>Juan Fernández Navarrete</td>\n",
       "<td class=val>1538</td>\n",
       "<td class=val>1579</td></tr><tr class=odd><td class=val>Hendrick Avercamp</td>\n",
       "<td class=val>1585</td>\n",
       "<td class=val>1634</td></tr><tr class=even><td class=val>Luís de Meneses, 3.º Conde da Ericeira</td>\n",
       "<td class=val>1632</td>\n",
       "<td class=val>1690</td></tr><tr class=odd><td class=val>Isaac Newton</td>\n",
       "<td class=val>1643</td>\n",
       "<td class=val>1727</td></tr><tr class=even><td class=val>Samuel Johnson</td>\n",
       "<td class=val>1709</td>\n",
       "<td class=val>1784</td></tr><tr class=odd><td class=val>Johann van Beethoven</td>\n",
       "<td class=val>1740</td>\n",
       "<td class=val>1792</td></tr><tr class=even><td class=val>Jakob Michael Reinhold Lenz</td>\n",
       "<td class=val>1751</td>\n",
       "<td class=val>1792</td></tr><tr class=odd><td class=val>Luigi Cherubini</td>\n",
       "<td class=val>1760</td>\n",
       "<td class=val>1842</td></tr><tr class=even><td class=val>Mary Lamb</td>\n",
       "<td class=val>1764</td>\n",
       "<td class=val>1847</td></tr><tr class=odd><td class=val>Ludwig van Beethoven</td>\n",
       "<td class=val>1770</td>\n",
       "<td class=val>1827</td></tr><tr class=even><td class=val>Vincenzo Cuoco</td>\n",
       "<td class=val>1770</td>\n",
       "<td class=val>1823</td></tr><tr class=odd><td class=val>John Wilson Croker</td>\n",
       "<td class=val>1780</td>\n",
       "<td class=val>1857</td></tr><tr class=even><td class=val>Alessandro Manzoni</td>\n",
       "<td class=val>1785</td>\n",
       "<td class=val>1873</td></tr><tr class=odd><td class=val>Konstantin Batyushkov</td>\n",
       "<td class=val>1787</td>\n",
       "<td class=val>1855</td></tr><tr class=even><td class=val>Thomas Addison</td>\n",
       "<td class=val>1793</td>\n",
       "<td class=val>1860</td></tr><tr class=odd><td class=val>John William Polidori</td>\n",
       "<td class=val>1795</td>\n",
       "<td class=val>1821</td></tr><tr class=even><td class=val>Gaetano Donizetti</td>\n",
       "<td class=val>1797</td>\n",
       "<td class=val>1848</td></tr><tr class=odd><td class=val>Eugène Hugo</td>\n",
       "<td class=val>1800</td>\n",
       "<td class=val>1837</td></tr><tr class=even><td class=val>John Saxton</td>\n",
       "<td class=val>1807</td>\n",
       "<td class=val>1866</td></tr><tr class=odd><td class=val>Karl Hampeln</td>\n",
       "<td class=val>1808</td>\n",
       "<td class=val>1880</td></tr><tr class=even><td class=val>Charles Darwin</td>\n",
       "<td class=val>1809</td>\n",
       "<td class=val>1882</td></tr><tr class=odd><td class=val>Robert Schumann</td>\n",
       "<td class=val>1810</td>\n",
       "<td class=val>1856</td></tr><tr class=even><td class=val>Otto von Bismarck</td>\n",
       "<td class=val>1815</td>\n",
       "<td class=val>1898</td></tr><tr class=odd><td class=val>Pavel Fedotov</td>\n",
       "<td class=val>1815</td>\n",
       "<td class=val>1852</td></tr><tr class=even><td class=val>Charles Kingsley</td>\n",
       "<td class=val>1819</td>\n",
       "<td class=val>1875</td></tr><tr class=odd><td class=val>Charles Méryon</td>\n",
       "<td class=val>1821</td>\n",
       "<td class=val>1868</td></tr><tr class=even><td class=val>Harriet Tubman</td>\n",
       "<td class=val>1822</td>\n",
       "<td class=val>1913</td></tr><tr class=odd><td class=val>Conrad Ferdinand Meyer</td>\n",
       "<td class=val>1825</td>\n",
       "<td class=val>1898</td></tr><tr class=even><td class=val>Edward Benson</td>\n",
       "<td class=val>1829</td>\n",
       "<td class=val>1896</td></tr><tr class=odd><td class=val>Adèle Hugo</td>\n",
       "<td class=val>1830</td>\n",
       "<td class=val>1915</td></tr><tr class=even><td class=val>Carl Tietz</td>\n",
       "<td class=val>1831</td>\n",
       "<td class=val>1874</td></tr><tr class=odd><td class=val>Lewis Carroll</td>\n",
       "<td class=val>1832</td>\n",
       "<td class=val>1898</td></tr><tr class=even><td class=val>Louisa May Alcott</td>\n",
       "<td class=val>1832</td>\n",
       "<td class=val>1888</td></tr><tr class=odd><td class=val>Albert Berg</td>\n",
       "<td class=val>1832</td>\n",
       "<td class=val>1916</td></tr><tr class=even><td class=val>Daniel Perea</td>\n",
       "<td class=val>1834</td>\n",
       "<td class=val>1909</td></tr><tr class=odd><td class=val>William Chester Minor</td>\n",
       "<td class=val>1834</td>\n",
       "<td class=val>1920</td></tr><tr class=even><td class=val>Machado de Assis</td>\n",
       "<td class=val>1839</td>\n",
       "<td class=val>1908</td></tr><tr class=odd><td class=val>Modest Petrovich Mussorgsky</td>\n",
       "<td class=val>1839</td>\n",
       "<td class=val>1881</td></tr><tr class=even><td class=val>Bartolo Longo</td>\n",
       "<td class=val>1841</td>\n",
       "<td class=val>1926</td></tr><tr class=odd><td class=val>Daniel Paul Schreber</td>\n",
       "<td class=val>1842</td>\n",
       "<td class=val>1911</td></tr><tr class=even><td class=val>Elena Raffalovich</td>\n",
       "<td class=val>1842</td>\n",
       "<td class=val>1918</td></tr></table><div class=\"tinfo\">Total: 553, Shown: 50</div></div>"
      ]
     },
     "metadata": {},
     "output_type": "display_data"
    }
   ],
   "source": [
    "%endpoint https://query.wikidata.org/sparql\n",
    "%format json\n",
    "%display table\n",
    "%show 50\n",
    "%outfile C:\\Users\\Francesca\\birth_death.json\n",
    "\n",
    "SELECT DISTINCT ?artistLabel ?yearOfBirth ?yearOfDeath\n",
    "WHERE {\n",
    "      ?artist wdt:P106/wdt:P279+ wd:Q483501;\n",
    "              rdfs:label ?artistLabel;\n",
    "              wdt:P569 ?dateOfBirth;\n",
    "              wdt:P570 ?dateOfDeath;\n",
    "              wdt:P1050 ?medicalCondition.\n",
    "      ?medicalCondition wdt:P279+ wd:Q12135.\n",
    "      BIND(year(?dateOfBirth) AS ?yearOfBirth)\n",
    "      BIND(year(?dateOfDeath) AS ?yearOfDeath)\n",
    "      FILTER (lang(?artistLabel) = \"en\")\n",
    "  }\n",
    "ORDER BY ?yearOfBirth"
   ]
  },
  {
   "cell_type": "markdown",
   "id": "446b87b2",
   "metadata": {
    "kernel": "SPARQL"
   },
   "source": [
    "## Data visualization: artisti affetti da disorder divisi per data di nascita."
   ]
  },
  {
   "cell_type": "code",
   "execution_count": 30,
   "id": "e86f3bb2",
   "metadata": {
    "kernel": "Python 3 (ipykernel)"
   },
   "outputs": [
    {
     "name": "stdout",
     "output_type": "stream",
     "text": [
      "{'antiquity': 7, 'XV': 1, 'XVI': 3, 'XVII': 2, 'XVIII': 13, 'XIX': 113, 'XX': 413, 'XXI': 1}\n"
     ]
    }
   ],
   "source": [
    "import json\n",
    " \n",
    "# Opening JSON file\n",
    "f = open('birth_death.json', encoding = 'UTF-8')\n",
    " \n",
    "# returns JSON object as a dictionary\n",
    "data = json.load(f)\n",
    " \n",
    "occurrences = len(data['results']['bindings'])\n",
    "\n",
    "n = 0\n",
    "dates =[]\n",
    "while occurrences:\n",
    "    dates.append(int(data['results']['bindings'][n]['yearOfBirth']['value']))\n",
    "    n +=1\n",
    "    occurrences -=1\n",
    "#print(dates)\n",
    "\n",
    "centuries = {'antiquity': 0,'XV': 0, 'XVI': 0, 'XVII': 0, 'XVIII': 0, 'XIX': 0, 'XX': 0, 'XXI': 0}\n",
    "\n",
    "for date in dates:\n",
    "    if date < 1400:\n",
    "        centuries['antiquity'] += 1 \n",
    "    if date >= 1400 and date < 1500:\n",
    "        centuries['XV'] += 1\n",
    "    if date >= 1500 and date < 1600:\n",
    "        centuries['XVI'] += 1\n",
    "    if date >= 1600 and date < 1700:\n",
    "        centuries['XVII'] += 1\n",
    "    if date >= 1700 and date < 1800:\n",
    "        centuries['XVIII'] += 1\n",
    "    if date >= 1800 and date < 1900:\n",
    "        centuries['XIX'] += 1\n",
    "    if date >= 1900 and date < 2000:\n",
    "        centuries['XX'] += 1\n",
    "    if date >= 2000:\n",
    "        centuries['XXI'] += 1\n",
    "print(centuries)    \n",
    "\n",
    " \n",
    "# Closing file\n",
    "f.close()"
   ]
  },
  {
   "cell_type": "code",
   "execution_count": 31,
   "id": "4a23d300",
   "metadata": {
    "kernel": "Python 3 (ipykernel)"
   },
   "outputs": [
    {
     "data": {
      "image/png": "[encoded data removed]",
      "text/plain": [
       "<Figure size 432x288 with 1 Axes>"
      ]
     },
     "metadata": {
      "needs_background": "light"
     },
     "output_type": "display_data"
    }
   ],
   "source": [
    "plt.bar(list(centuries.keys()), centuries.values(), color='y')\n",
    "plt.show()"
   ]
  },
  {
   "cell_type": "markdown",
   "id": "8bbcf159",
   "metadata": {
    "kernel": "Python 3 (ipykernel)"
   },
   "source": [
    "## 11. Artisti, disturbo, date di nascita e morte."
   ]
  },
  {
   "cell_type": "code",
   "execution_count": 3,
   "id": "3ab8ffef",
   "metadata": {
    "kernel": "SPARQL"
   },
   "outputs": [
    {
     "data": {
      "text/html": [
       "<div class=\"krn-spql\"><div class=\"magic\">Endpoint set to: https://query.wikidata.org/sparql</div><div class=\"magic\">Request format: JSON</div><div class=\"magic\">Display: table</div><div class=\"magic\">Result maximum size: 50</div><div class=\"magic\">Output file: C:\\Users\\Francesca\\disorder_centuries.json</div></div>"
      ],
      "text/plain": [
       "Endpoint set to: https://query.wikidata.org/sparql\n",
       "Request format: JSON\n",
       "Display: table\n",
       "Result maximum size: 50\n",
       "Output file: C:\\Users\\Francesca\\disorder_centuries.json\n"
      ]
     },
     "metadata": {},
     "output_type": "display_data"
    },
    {
     "data": {
      "text/html": [
       "<div class=\"krn-spql\"><table><tr class=hdr><th>artistLabel</th>\n",
       "<th>disorderLabel</th>\n",
       "<th>yearOfBirth</th>\n",
       "<th>yearOfDeath</th></tr><tr class=odd><td class=val>Walt Disney</td>\n",
       "<td class=val>dyslexia</td>\n",
       "<td class=val>1901</td>\n",
       "<td class=val>1966</td></tr><tr class=even><td class=val>Keanu Reeves</td>\n",
       "<td class=val>dyslexia</td>\n",
       "<td class=val>1964</td>\n",
       "<td class=val></td></tr><tr class=odd><td class=val>Anthony Hopkins</td>\n",
       "<td class=val>Asperger syndrome</td>\n",
       "<td class=val>1937</td>\n",
       "<td class=val></td></tr><tr class=even><td class=val>Anthony Hopkins</td>\n",
       "<td class=val>dyslexia</td>\n",
       "<td class=val>1937</td>\n",
       "<td class=val></td></tr><tr class=odd><td class=val>Stephen Fry</td>\n",
       "<td class=val>prosopagnosia</td>\n",
       "<td class=val>1957</td>\n",
       "<td class=val></td></tr><tr class=even><td class=val>Stephen Fry</td>\n",
       "<td class=val>bipolar disorder</td>\n",
       "<td class=val>1957</td>\n",
       "<td class=val></td></tr><tr class=odd><td class=val>Susan Boyle</td>\n",
       "<td class=val>Asperger syndrome</td>\n",
       "<td class=val>1961</td>\n",
       "<td class=val></td></tr><tr class=even><td class=val>Nelly Furtado</td>\n",
       "<td class=val>Attention deficit hyperactivity disorder predominantly inattentive</td>\n",
       "<td class=val>1978</td>\n",
       "<td class=val></td></tr><tr class=odd><td class=val>Robert Walser</td>\n",
       "<td class=val>schizophrenia</td>\n",
       "<td class=val>1878</td>\n",
       "<td class=val>1956</td></tr><tr class=even><td class=val>John Lee Hooker</td>\n",
       "<td class=val>stuttering</td>\n",
       "<td class=val>1917</td>\n",
       "<td class=val>2001</td></tr><tr class=odd><td class=val>Conrad Ferdinand Meyer</td>\n",
       "<td class=val>major depressive disorder</td>\n",
       "<td class=val>1825</td>\n",
       "<td class=val>1898</td></tr><tr class=even><td class=val>Billie Holiday</td>\n",
       "<td class=val>alcoholism</td>\n",
       "<td class=val>1915</td>\n",
       "<td class=val>1959</td></tr><tr class=odd><td class=val>Example</td>\n",
       "<td class=val>Asperger syndrome</td>\n",
       "<td class=val>1982</td>\n",
       "<td class=val></td></tr><tr class=even><td class=val>Dietrich Schwanitz</td>\n",
       "<td class=val>Huntington's disease</td>\n",
       "<td class=val>1940</td>\n",
       "<td class=val>2004</td></tr><tr class=odd><td class=val>Billie Holiday</td>\n",
       "<td class=val>major depressive disorder</td>\n",
       "<td class=val>1915</td>\n",
       "<td class=val>1959</td></tr><tr class=even><td class=val>Richard Plant</td>\n",
       "<td class=val>major depressive disorder</td>\n",
       "<td class=val>1910</td>\n",
       "<td class=val>1998</td></tr><tr class=odd><td class=val>Karl Maria Wiligut</td>\n",
       "<td class=val>schizophrenia</td>\n",
       "<td class=val>1866</td>\n",
       "<td class=val>1946</td></tr><tr class=even><td class=val>Charles Darwin</td>\n",
       "<td class=val>stuttering</td>\n",
       "<td class=val>1809</td>\n",
       "<td class=val>1882</td></tr><tr class=odd><td class=val>Ozzy Osbourne</td>\n",
       "<td class=val>stuttering</td>\n",
       "<td class=val>1948</td>\n",
       "<td class=val></td></tr><tr class=even><td class=val>Connie Francis</td>\n",
       "<td class=val>bipolar disorder</td>\n",
       "<td class=val>1937</td>\n",
       "<td class=val></td></tr><tr class=odd><td class=val>Connie Francis</td>\n",
       "<td class=val>bipolar disorder</td>\n",
       "<td class=val>1938</td>\n",
       "<td class=val></td></tr><tr class=even><td class=val>Tay Zonday</td>\n",
       "<td class=val>autism spectrum disorder</td>\n",
       "<td class=val>1982</td>\n",
       "<td class=val></td></tr><tr class=odd><td class=val>Ozzy Osbourne</td>\n",
       "<td class=val>dyslexia</td>\n",
       "<td class=val>1948</td>\n",
       "<td class=val></td></tr><tr class=even><td class=val>Jack Welch</td>\n",
       "<td class=val>stuttering</td>\n",
       "<td class=val>1935</td>\n",
       "<td class=val>2020</td></tr><tr class=odd><td class=val>Jakob Michael Reinhold Lenz</td>\n",
       "<td class=val>schizophrenia</td>\n",
       "<td class=val>1751</td>\n",
       "<td class=val>1792</td></tr><tr class=even><td class=val>Valerie Solanas</td>\n",
       "<td class=val>schizophrenia</td>\n",
       "<td class=val>1936</td>\n",
       "<td class=val>1988</td></tr><tr class=odd><td class=val>Daniel Paul Schreber</td>\n",
       "<td class=val>schizophrenia</td>\n",
       "<td class=val>1842</td>\n",
       "<td class=val>1911</td></tr><tr class=even><td class=val>Janet Frame</td>\n",
       "<td class=val>schizophrenia</td>\n",
       "<td class=val>1924</td>\n",
       "<td class=val>2004</td></tr><tr class=odd><td class=val>Alessandro Manzoni</td>\n",
       "<td class=val>stuttering</td>\n",
       "<td class=val>1785</td>\n",
       "<td class=val>1873</td></tr><tr class=even><td class=val>Ivana Brlić-Mažuranić</td>\n",
       "<td class=val>major depressive disorder</td>\n",
       "<td class=val>1874</td>\n",
       "<td class=val>1938</td></tr><tr class=odd><td class=val>Les Murray</td>\n",
       "<td class=val>major depressive disorder</td>\n",
       "<td class=val>1938</td>\n",
       "<td class=val>2019</td></tr><tr class=even><td class=val>Carly Simon</td>\n",
       "<td class=val>dyslexia</td>\n",
       "<td class=val>1943</td>\n",
       "<td class=val></td></tr><tr class=odd><td class=val>Alison Goldfrapp</td>\n",
       "<td class=val>dyslexia</td>\n",
       "<td class=val>1966</td>\n",
       "<td class=val></td></tr><tr class=even><td class=val>Mike Gravel</td>\n",
       "<td class=val>dyslexia</td>\n",
       "<td class=val>1930</td>\n",
       "<td class=val>2021</td></tr><tr class=odd><td class=val>Example</td>\n",
       "<td class=val>attention deficit hyperactivity disorder</td>\n",
       "<td class=val>1982</td>\n",
       "<td class=val></td></tr><tr class=even><td class=val>Chris Rock</td>\n",
       "<td class=val>Non-Verbal Learning Disorder</td>\n",
       "<td class=val>1965</td>\n",
       "<td class=val></td></tr><tr class=odd><td class=val>Ed Sheeran</td>\n",
       "<td class=val>stuttering</td>\n",
       "<td class=val>1991</td>\n",
       "<td class=val></td></tr><tr class=even><td class=val>Steven Spielberg</td>\n",
       "<td class=val>dyslexia</td>\n",
       "<td class=val>1946</td>\n",
       "<td class=val></td></tr><tr class=odd><td class=val>Antonin Artaud</td>\n",
       "<td class=val>schizophrenia</td>\n",
       "<td class=val>1896</td>\n",
       "<td class=val>1948</td></tr><tr class=even><td class=val>Carly Simon</td>\n",
       "<td class=val>stuttering</td>\n",
       "<td class=val>1943</td>\n",
       "<td class=val></td></tr><tr class=odd><td class=val>Brian Wilson</td>\n",
       "<td class=val>bipolar disorder</td>\n",
       "<td class=val>1942</td>\n",
       "<td class=val></td></tr><tr class=even><td class=val>Example</td>\n",
       "<td class=val>obsessive-compulsive disorder</td>\n",
       "<td class=val>1982</td>\n",
       "<td class=val></td></tr><tr class=odd><td class=val>Bobby Brown</td>\n",
       "<td class=val>bipolar disorder</td>\n",
       "<td class=val>1969</td>\n",
       "<td class=val></td></tr><tr class=even><td class=val>Tiger Woods</td>\n",
       "<td class=val>stuttering</td>\n",
       "<td class=val>1975</td>\n",
       "<td class=val></td></tr><tr class=odd><td class=val>Anna Nicole Smith</td>\n",
       "<td class=val>borderline personality disorder</td>\n",
       "<td class=val>1967</td>\n",
       "<td class=val>2007</td></tr><tr class=even><td class=val>Rumer</td>\n",
       "<td class=val>bipolar disorder</td>\n",
       "<td class=val>1979</td>\n",
       "<td class=val></td></tr><tr class=odd><td class=val>Rita Lee</td>\n",
       "<td class=val>bipolar disorder</td>\n",
       "<td class=val>1947</td>\n",
       "<td class=val>2023</td></tr><tr class=even><td class=val>Zelda Fitzgerald</td>\n",
       "<td class=val>schizophrenia</td>\n",
       "<td class=val>1900</td>\n",
       "<td class=val>1948</td></tr><tr class=odd><td class=val>Sarah Kane</td>\n",
       "<td class=val>chronic depressive disorder</td>\n",
       "<td class=val>1971</td>\n",
       "<td class=val>1999</td></tr><tr class=even><td class=val>Brian Wilson</td>\n",
       "<td class=val>organic personality disorder</td>\n",
       "<td class=val>1942</td>\n",
       "<td class=val></td></tr></table><div class=\"tinfo\">Total: 1729, Shown: 50</div></div>"
      ]
     },
     "metadata": {},
     "output_type": "display_data"
    }
   ],
   "source": [
    "%endpoint https://query.wikidata.org/sparql\n",
    "%format json\n",
    "%display table\n",
    "%show 50\n",
    "%outfile C:\\Users\\Francesca\\disorder_centuries.json\n",
    "\n",
    "SELECT DISTINCT ?artistLabel ?disorderLabel ?yearOfBirth ?yearOfDeath\n",
    "WHERE {\n",
    "      ?artist wdt:P106/wdt:P279+ wd:Q483501;\n",
    "              rdfs:label ?artistLabel;\n",
    "              wdt:P1050 ?medicalCondition.\n",
    "      ?medicalCondition wdt:P279+ wd:Q12135.\n",
    "      ?medicalCondition rdfs:label ?disorderLabel\n",
    "      OPTIONAL {?artist wdt:P569 ?dateOfBirth}\n",
    "      OPTIONAL {?artist wdt:P570 ?dateOfDeath}\n",
    "      BIND(year(?dateOfBirth) AS ?yearOfBirth)\n",
    "      BIND(year(?dateOfDeath) AS ?yearOfDeath)\n",
    "      FILTER (lang(?disorderLabel) = \"en\")\n",
    "      FILTER (lang(?artistLabel) = \"en\")\n",
    "  }"
   ]
  },
  {
   "cell_type": "markdown",
   "id": "63994d0f",
   "metadata": {
    "kernel": "SPARQL"
   },
   "source": [
    "## Data visualization. Per ogni secolo, i disturbi diagnosticati, in percentuale."
   ]
  },
  {
   "cell_type": "markdown",
   "id": "fe58442a",
   "metadata": {
    "kernel": "SPARQL"
   },
   "source": [
    "Individuiamo, a partire dalla ricerca precedente (11) i disturbi più diagnosticati (balbuzie, depressione, disturbo bipolare, dislessia, asperger, ADHD, autismo, /disturbo ossessivo compulsivo, disturbo post-traumatico da stress, demenzia, tourette) e rappresentiamo la loro diagnosi (in percentuale) nei secoli."
   ]
  },
  {
   "cell_type": "code",
   "execution_count": 7,
   "id": "ebb932d0",
   "metadata": {
    "kernel": "Python 3 (ipykernel)",
    "scrolled": true
   },
   "outputs": [],
   "source": [
    "import json\n",
    "\n",
    "# Opening JSON file\n",
    "f = open('disorder_centuries.json', encoding = 'UTF-8')\n",
    " \n",
    "# returns JSON object as a dictionary\n",
    "data = json.load(f)\n",
    "\n",
    "# Creiamo un dizionario contenente i secoli e relativi disturbi, con numero di persone per disturbo.\n",
    "\n",
    "occurrences = len(data['results']['bindings'])\n",
    "\n",
    "centuries = {'antiquity': {},'XV': {}, 'XVI': {}, 'XVII': {}, 'XVIII': {}, 'XIX': {}, 'XX': {}, 'XXI': {}}\n",
    "\n",
    "n = 0\n",
    "while occurrences:\n",
    "    disorder = data['results']['bindings'][n]['disorderLabel']['value']\n",
    "    try:\n",
    "        year_of_death = int (data['results']['bindings'][n]['yearOfDeath']['value'])\n",
    "        if year_of_death < 1400:\n",
    "            if disorder not in centuries['antiquity']:\n",
    "                centuries['antiquity'] [disorder]= 1\n",
    "            else:\n",
    "                centuries['antiquity'][disorder] += 1\n",
    "        if year_of_death >= 1400 and year_of_death < 1500:\n",
    "            if disorder not in centuries['XV']:\n",
    "                centuries['XV'] [disorder]= 1\n",
    "            else:\n",
    "                centuries['XV'][disorder] += 1\n",
    "        if year_of_death >= 1500 and year_of_death < 1600 :\n",
    "            if disorder not in centuries['XVI']:\n",
    "                centuries['XVI'] [disorder]= 1\n",
    "            else:\n",
    "                centuries['XVI'][disorder] += 1\n",
    "        if year_of_death >= 1600 and year_of_death < 1700:\n",
    "            if disorder not in centuries['XVII']:\n",
    "                centuries['XVII'] [disorder]= 1\n",
    "            else:\n",
    "                centuries['XVII'][disorder] += 1\n",
    "        if year_of_death >= 1700 and year_of_death < 1800:\n",
    "            if disorder not in centuries['XVIII']:\n",
    "                centuries['XVIII'] [disorder]= 1\n",
    "            else:\n",
    "                centuries['XVIII'][disorder] += 1\n",
    "        if year_of_death >= 1800 and year_of_death < 1900:\n",
    "            if disorder not in centuries['XIX']:\n",
    "                centuries['XIX'] [disorder]= 1\n",
    "            else:\n",
    "                centuries['XIX'][disorder] += 1\n",
    "        if year_of_death >= 1900 and year_of_death < 2000:\n",
    "            if disorder not in centuries['XX']:\n",
    "                centuries['XX'] [disorder]= 1\n",
    "            else:\n",
    "                centuries['XX'][disorder] += 1\n",
    "        if year_of_death >= 2000:\n",
    "            if disorder not in centuries['XXI']:\n",
    "                centuries['XXI'] [disorder]= 1\n",
    "            else:\n",
    "                centuries['XXI'][disorder] += 1\n",
    "    except:\n",
    "        if disorder not in centuries['XXI']:\n",
    "                centuries['XXI'] [disorder]= 1\n",
    "        else:\n",
    "            centuries['XXI'][disorder] += 1\n",
    "    n +=1\n",
    "    occurrences -=1\n",
    "\n",
    "#print(centuries)\n",
    "\n",
    "# Creiamo un dizionario contenente tutti i disordini e il rispettivo numero di persone affette.\n",
    "\n",
    "disorders = dict()\n",
    "for century in centuries:\n",
    "    for disorder, number in centuries[century].items():\n",
    "        if disorder not in disorders:\n",
    "            disorders[disorder] = number\n",
    "        else:\n",
    "            disorders[disorder] += number\n",
    "#print(disorders)\n",
    "\n",
    "# Per ogni secolo, calcoliamo la percentuale di ogni disturbo.\n",
    "\n",
    "percentages = centuries.copy()\n",
    "for century in centuries:\n",
    "    tot = 0\n",
    "    for value in centuries[century].values():\n",
    "        tot += value\n",
    "    #print(tot)\n",
    "    for disorder, number in centuries[century].items():  \n",
    "        #print(century, disorder, number, tot)\n",
    "        percentages[century][disorder] = number * 100/tot\n",
    "#print(percentages)\n"
   ]
  },
  {
   "cell_type": "code",
   "execution_count": 2,
   "id": "dd8da0a1",
   "metadata": {
    "kernel": "Python 3 (ipykernel)"
   },
   "outputs": [
    {
     "data": {
      "image/png": "[encoded data removed]",
      "text/plain": [
       "<Figure size 432x288 with 1 Axes>"
      ]
     },
     "metadata": {
      "needs_background": "light"
     },
     "output_type": "display_data"
    }
   ],
   "source": [
    "#### import necessary libraries\n",
    "import pandas as pd\n",
    "#import seaborn as sns\n",
    "import matplotlib.pyplot as plt\n",
    " \n",
    "# create DataFrame\n",
    "df = pd.DataFrame({'Balbuzie': [100, 0, 33, 0, 25, 15, 12, 6],\n",
    "                   'Depressione': [0, 0, 0, 50, 0, 21, 17, 6],\n",
    "                   'Bipolarismo': [0, 0, 0, 0, 0, 15, 23, 14],\n",
    "                   'Schizofrenia': [0, 0, 0, 0, 25, 12, 20, 4],            \n",
    "                   'Dislessia': [0, 0, 0, 0, 0, 0, 3, 14], \n",
    "                   'Asperger':[0, 0, 0, 0, 0, 0, 0.4, 7], \n",
    "                   'ADHD': [0, 0, 0, 0, 0, 0, 0, 8], \n",
    "                   'Autismo': [0, 0, 0, 0, 0, 0, 0, 15], \n",
    "                   'Tourette':[0, 0, 0, 0, 25, 0, 0.4, 1],             \n",
    "                   'Altro': [0, 0, 67, 50, 25, 37, 24.2, 25], \n",
    "                  },\n",
    "                  index=['Antiquity', 'XV', 'XVI', 'XVII', 'XVIII', 'XIX', 'XX', 'XI'])\n",
    " \n",
    " \n",
    "df.plot(kind='bar', stacked=True)\n",
    "\n",
    "# Put a legend to the right of the current axis\n",
    "plt.legend(loc='upper left', bbox_to_anchor=(1, 0.5))\n",
    "\n",
    "# labels for x & y axis\n",
    "plt.xlabel('Secoli')\n",
    "plt.ylabel('Diagnosi')\n",
    " \n",
    "# title of plot\n",
    "plt.title('Disturbi diagnosticati per secolo, in percentuale')\n",
    "plt.show()"
   ]
  },
  {
   "cell_type": "code",
   "execution_count": 3,
   "id": "f1c87910",
   "metadata": {
    "kernel": "Python 3 (ipykernel)"
   },
   "outputs": [
    {
     "data": {
      "image/png": "[encoded data removed]",
      "text/plain": [
       "<Figure size 432x288 with 1 Axes>"
      ]
     },
     "metadata": {
      "needs_background": "light"
     },
     "output_type": "display_data"
    }
   ],
   "source": [
    "# import necessary libraries\n",
    "import pandas as pd\n",
    "#import seaborn as sns\n",
    "import matplotlib.pyplot as plt\n",
    " \n",
    "# create DataFrame\n",
    "# A partire dal dizionario 'centuries'. Accorpiamo i vari disturbi depressivi ('major depressive disorder', 'mental depression', 'chronic depressive disorder'), \n",
    "# di bipolarismo ('bipolar disorder, 'bipolar II disorder'), di ADHD ('Attention deficit hyperactivity disorder predominantly inattentive', 'Attention deficit hyperactivity disorder')\n",
    "df = pd.DataFrame({'Balbuzie': [7,0,1,0,1,5,28,82],\n",
    "                   'Depressione': [0,0,0,1,0,7,40,87],\n",
    "                   'Bipolarismo': [0,0,0,0,0,5,54,216],\n",
    "                   'Schizofrenia': [0,0,0,0,1,4,47,51],            \n",
    "                   'Dislessia': [0,0,0,0,0,0,8,208], \n",
    "                   'Asperger':[0,0,0,0,0,0,1,102], \n",
    "                   'ADHD': [0,0,0,0,0,0,0,114], \n",
    "                   'Autismo': [0,0,0,0,0,0,0,224], \n",
    "                   'Tourette':[0,0,0,0,1,0,1,19],             \n",
    "                   'Altro': [0,2,2,1,1,12,52,346], \n",
    "                  },\n",
    "                  index=['Antiquity', 'XV', 'XVI', 'XVII', 'XVIII', 'XIX', 'XX', 'XI'])\n",
    " \n",
    " \n",
    "df.plot(kind='bar', stacked=True)\n",
    "\n",
    "# Put a legend to the right of the current axis\n",
    "plt.legend(loc='upper left', bbox_to_anchor=(1, 0.5))\n",
    "\n",
    "# labels for x & y axis\n",
    "plt.xlabel('Secoli')\n",
    "plt.ylabel('Diagnosi')\n",
    " \n",
    "# title of plot\n",
    "plt.title('Disturbi diagnosticati per secolo')\n",
    "plt.show()"
   ]
  },
  {
   "cell_type": "code",
   "execution_count": null,
   "id": "6a33de21",
   "metadata": {
    "kernel": "Python 3 (ipykernel)"
   },
   "outputs": [],
   "source": []
  }
 ],
 "metadata": {
  "kernelspec": {
   "display_name": "SoS",
   "language": "sos",
   "name": "sos"
  },
  "language_info": {
   "codemirror_mode": "sos",
   "file_extension": ".sos",
   "mimetype": "text/x-sos",
   "name": "sos",
   "nbconvert_exporter": "sos_notebook.converter.SoS_Exporter",
   "pygments_lexer": "sos"
  },
  "sos": {
   "kernels": [
    [
     "Python 3 (ipykernel)",
     "python3",
     "python3",
     "",
     {
      "name": "ipython",
      "version": 3
     }
    ],
    [
     "SPARQL",
     "sparql",
     "sparql",
     "",
     {
      "name": "sparql"
     }
    ]
   ],
   "panel": {
    "displayed": false,
    "height": 0
   },
   "version": "0.24.4"
  }
 },
 "nbformat": 4,
 "nbformat_minor": 5
}
